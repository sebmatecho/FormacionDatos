{
 "cells": [
  {
   "cell_type": "markdown",
   "id": "de82fa09",
   "metadata": {},
   "source": [
    "# Python"
   ]
  },
  {
   "cell_type": "markdown",
   "id": "952a3f34",
   "metadata": {
    "ExecuteTime": {
     "end_time": "2022-08-04T00:20:35.212174Z",
     "start_time": "2022-08-04T00:20:35.201160Z"
    }
   },
   "source": [
    "## Elementos Básicos"
   ]
  },
  {
   "cell_type": "markdown",
   "id": "672790b4",
   "metadata": {
    "ExecuteTime": {
     "end_time": "2022-08-04T00:21:43.888475Z",
     "start_time": "2022-08-04T00:21:43.875478Z"
    }
   },
   "source": [
    "### numéricos"
   ]
  },
  {
   "cell_type": "code",
   "execution_count": 8,
   "id": "69efc374",
   "metadata": {
    "ExecuteTime": {
     "end_time": "2022-08-04T00:21:30.554355Z",
     "start_time": "2022-08-04T00:21:30.543345Z"
    }
   },
   "outputs": [
    {
     "data": {
      "text/plain": [
       "2"
      ]
     },
     "execution_count": 8,
     "metadata": {},
     "output_type": "execute_result"
    }
   ],
   "source": [
    "2"
   ]
  },
  {
   "cell_type": "markdown",
   "id": "6d30774f",
   "metadata": {},
   "source": [
    "### String"
   ]
  },
  {
   "cell_type": "code",
   "execution_count": 9,
   "id": "28b96f51",
   "metadata": {
    "ExecuteTime": {
     "end_time": "2022-08-04T00:21:34.901944Z",
     "start_time": "2022-08-04T00:21:34.886947Z"
    }
   },
   "outputs": [
    {
     "data": {
      "text/plain": [
       "'b'"
      ]
     },
     "execution_count": 9,
     "metadata": {},
     "output_type": "execute_result"
    }
   ],
   "source": [
    "'b'"
   ]
  },
  {
   "cell_type": "markdown",
   "id": "f015296a",
   "metadata": {
    "ExecuteTime": {
     "end_time": "2022-08-04T00:22:47.044753Z",
     "start_time": "2022-08-04T00:22:47.038754Z"
    }
   },
   "source": [
    "### Variables lógicas"
   ]
  },
  {
   "cell_type": "code",
   "execution_count": 11,
   "id": "cdd49fa9",
   "metadata": {
    "ExecuteTime": {
     "end_time": "2022-08-04T00:22:41.430323Z",
     "start_time": "2022-08-04T00:22:41.399324Z"
    }
   },
   "outputs": [
    {
     "data": {
      "text/plain": [
       "False"
      ]
     },
     "execution_count": 11,
     "metadata": {},
     "output_type": "execute_result"
    }
   ],
   "source": [
    "False"
   ]
  },
  {
   "cell_type": "markdown",
   "id": "59d0baf1",
   "metadata": {
    "ExecuteTime": {
     "end_time": "2022-08-04T00:23:17.585878Z",
     "start_time": "2022-08-04T00:23:17.578807Z"
    }
   },
   "source": [
    "## Ponerle nombre a los objetos"
   ]
  },
  {
   "cell_type": "code",
   "execution_count": 14,
   "id": "ee81570b",
   "metadata": {
    "ExecuteTime": {
     "end_time": "2022-08-04T00:23:21.429854Z",
     "start_time": "2022-08-04T00:23:21.411856Z"
    }
   },
   "outputs": [
    {
     "data": {
      "text/plain": [
       "4"
      ]
     },
     "execution_count": 14,
     "metadata": {},
     "output_type": "execute_result"
    }
   ],
   "source": [
    "2+2"
   ]
  },
  {
   "cell_type": "code",
   "execution_count": 17,
   "id": "f98f9587",
   "metadata": {
    "ExecuteTime": {
     "end_time": "2022-08-04T00:24:46.280725Z",
     "start_time": "2022-08-04T00:24:46.268726Z"
    }
   },
   "outputs": [],
   "source": [
    "x = 2\n",
    "y = 3"
   ]
  },
  {
   "cell_type": "code",
   "execution_count": 20,
   "id": "44b03678",
   "metadata": {
    "ExecuteTime": {
     "end_time": "2022-08-04T00:24:56.431012Z",
     "start_time": "2022-08-04T00:24:56.424009Z"
    }
   },
   "outputs": [
    {
     "data": {
      "text/plain": [
       "5"
      ]
     },
     "execution_count": 20,
     "metadata": {},
     "output_type": "execute_result"
    }
   ],
   "source": [
    "x+y"
   ]
  },
  {
   "cell_type": "code",
   "execution_count": 40,
   "id": "2d9f58eb",
   "metadata": {
    "ExecuteTime": {
     "end_time": "2022-08-04T00:34:35.214587Z",
     "start_time": "2022-08-04T00:34:35.206582Z"
    }
   },
   "outputs": [],
   "source": [
    "xx = 'Hola, como estás?'\n",
    "xx2 = \"Bien o qué?\""
   ]
  },
  {
   "cell_type": "code",
   "execution_count": 41,
   "id": "d1f7501b",
   "metadata": {
    "ExecuteTime": {
     "end_time": "2022-08-04T00:34:36.630588Z",
     "start_time": "2022-08-04T00:34:36.612591Z"
    }
   },
   "outputs": [
    {
     "data": {
      "text/plain": [
       "'Hola, como estás?Bien o qué?'"
      ]
     },
     "execution_count": 41,
     "metadata": {},
     "output_type": "execute_result"
    }
   ],
   "source": [
    "xx+xx2"
   ]
  },
  {
   "cell_type": "code",
   "execution_count": 27,
   "id": "f3007c4b",
   "metadata": {
    "ExecuteTime": {
     "end_time": "2022-08-04T00:28:51.692982Z",
     "start_time": "2022-08-04T00:28:51.679984Z"
    }
   },
   "outputs": [],
   "source": [
    "z = False\n",
    "z2 = True"
   ]
  },
  {
   "cell_type": "code",
   "execution_count": 28,
   "id": "eaf9b98c",
   "metadata": {
    "ExecuteTime": {
     "end_time": "2022-08-04T00:28:53.229529Z",
     "start_time": "2022-08-04T00:28:53.215527Z"
    }
   },
   "outputs": [
    {
     "data": {
      "text/plain": [
       "True"
      ]
     },
     "execution_count": 28,
     "metadata": {},
     "output_type": "execute_result"
    }
   ],
   "source": [
    "z2"
   ]
  },
  {
   "cell_type": "markdown",
   "id": "ec8d9970",
   "metadata": {},
   "source": [
    "## Lista\n",
    "Arreglo de objetos que puede ser modificable (mutable)"
   ]
  },
  {
   "cell_type": "code",
   "execution_count": 36,
   "id": "be9977f3",
   "metadata": {
    "ExecuteTime": {
     "end_time": "2022-08-04T00:32:30.793596Z",
     "start_time": "2022-08-04T00:32:30.776628Z"
    }
   },
   "outputs": [],
   "source": [
    "x = [2,3,6]\n",
    "y = ['Hola','qué','tal?']\n",
    "z = [False, True]\n",
    "xyz = [2,'hola',False]"
   ]
  },
  {
   "cell_type": "code",
   "execution_count": 38,
   "id": "d69b7e56",
   "metadata": {
    "ExecuteTime": {
     "end_time": "2022-08-04T00:33:01.704151Z",
     "start_time": "2022-08-04T00:33:01.685150Z"
    }
   },
   "outputs": [
    {
     "data": {
      "text/plain": [
       "[2, 3, 6, 'Hola', 'qué', 'tal?']"
      ]
     },
     "execution_count": 38,
     "metadata": {},
     "output_type": "execute_result"
    }
   ],
   "source": [
    "x+y"
   ]
  },
  {
   "cell_type": "code",
   "execution_count": 48,
   "id": "eac2c9d2",
   "metadata": {
    "ExecuteTime": {
     "end_time": "2022-08-04T00:39:48.101657Z",
     "start_time": "2022-08-04T00:39:48.084653Z"
    }
   },
   "outputs": [],
   "source": [
    "l_ejemplo = [2,3,5,6,7,9]"
   ]
  },
  {
   "cell_type": "code",
   "execution_count": 49,
   "id": "bbe1413f",
   "metadata": {
    "ExecuteTime": {
     "end_time": "2022-08-04T00:40:12.007500Z",
     "start_time": "2022-08-04T00:40:11.998497Z"
    }
   },
   "outputs": [],
   "source": [
    "l_ejemplo.remove(2)"
   ]
  },
  {
   "cell_type": "code",
   "execution_count": 50,
   "id": "e20448ce",
   "metadata": {
    "ExecuteTime": {
     "end_time": "2022-08-04T00:40:16.820342Z",
     "start_time": "2022-08-04T00:40:16.807341Z"
    }
   },
   "outputs": [
    {
     "data": {
      "text/plain": [
       "[3, 5, 6, 7, 9]"
      ]
     },
     "execution_count": 50,
     "metadata": {},
     "output_type": "execute_result"
    }
   ],
   "source": [
    "l_ejemplo"
   ]
  },
  {
   "cell_type": "markdown",
   "id": "558e7d94",
   "metadata": {
    "ExecuteTime": {
     "end_time": "2022-08-04T00:38:20.455602Z",
     "start_time": "2022-08-04T00:38:20.438591Z"
    }
   },
   "source": [
    "## Tuplas\n",
    "Arreglo de objetos que no puede ser modificado (inmutable)"
   ]
  },
  {
   "cell_type": "code",
   "execution_count": 51,
   "id": "eba6becf",
   "metadata": {
    "ExecuteTime": {
     "end_time": "2022-08-04T00:40:43.613616Z",
     "start_time": "2022-08-04T00:40:43.591619Z"
    }
   },
   "outputs": [],
   "source": [
    "x = (2,3,4)"
   ]
  },
  {
   "cell_type": "code",
   "execution_count": 55,
   "id": "7efaf166",
   "metadata": {
    "ExecuteTime": {
     "end_time": "2022-08-04T00:41:54.072920Z",
     "start_time": "2022-08-04T00:41:54.054923Z"
    }
   },
   "outputs": [],
   "source": [
    "c\n",
    "t_ejemplo2 = (3,4,6,3,12)"
   ]
  },
  {
   "cell_type": "code",
   "execution_count": 56,
   "id": "c64d64a3",
   "metadata": {
    "ExecuteTime": {
     "end_time": "2022-08-04T00:41:59.310891Z",
     "start_time": "2022-08-04T00:41:59.297895Z"
    }
   },
   "outputs": [
    {
     "data": {
      "text/plain": [
       "(2, 5, 47, 6, 5, 7, 3, 4, 6, 3, 12)"
      ]
     },
     "execution_count": 56,
     "metadata": {},
     "output_type": "execute_result"
    }
   ],
   "source": [
    "t_ejemplo+t_ejemplo2"
   ]
  },
  {
   "cell_type": "code",
   "execution_count": 54,
   "id": "8bf14b6f",
   "metadata": {
    "ExecuteTime": {
     "end_time": "2022-08-04T00:41:21.978103Z",
     "start_time": "2022-08-04T00:41:21.950028Z"
    }
   },
   "outputs": [
    {
     "ename": "AttributeError",
     "evalue": "'tuple' object has no attribute 'remove'",
     "output_type": "error",
     "traceback": [
      "\u001b[1;31m---------------------------------------------------------------------------\u001b[0m",
      "\u001b[1;31mAttributeError\u001b[0m                            Traceback (most recent call last)",
      "\u001b[1;32m~\\AppData\\Local\\Temp/ipykernel_8760/3328809073.py\u001b[0m in \u001b[0;36m<module>\u001b[1;34m\u001b[0m\n\u001b[1;32m----> 1\u001b[1;33m \u001b[0mt_ejemplo\u001b[0m\u001b[1;33m.\u001b[0m\u001b[0mremove\u001b[0m\u001b[1;33m(\u001b[0m\u001b[1;36m2\u001b[0m\u001b[1;33m)\u001b[0m\u001b[1;33m\u001b[0m\u001b[1;33m\u001b[0m\u001b[0m\n\u001b[0m",
      "\u001b[1;31mAttributeError\u001b[0m: 'tuple' object has no attribute 'remove'"
     ]
    }
   ],
   "source": [
    "t_ejemplo.remove(2)"
   ]
  },
  {
   "cell_type": "code",
   "execution_count": 57,
   "id": "dd5e98b4",
   "metadata": {
    "ExecuteTime": {
     "end_time": "2022-08-04T00:42:59.820938Z",
     "start_time": "2022-08-04T00:42:59.813959Z"
    }
   },
   "outputs": [],
   "source": [
    "l_ejemplo = [2,3,5,6,7,9]\n",
    "t_ejemplo = (2,3,5,6,7,9)"
   ]
  },
  {
   "cell_type": "code",
   "execution_count": 59,
   "id": "c1de9fbb",
   "metadata": {
    "ExecuteTime": {
     "end_time": "2022-08-04T00:43:42.916103Z",
     "start_time": "2022-08-04T00:43:42.895119Z"
    }
   },
   "outputs": [
    {
     "data": {
      "text/plain": [
       "4"
      ]
     },
     "execution_count": 59,
     "metadata": {},
     "output_type": "execute_result"
    }
   ],
   "source": [
    "l_ejemplo[0]+t_ejemplo[0]"
   ]
  },
  {
   "cell_type": "markdown",
   "id": "fdd1c473",
   "metadata": {
    "ExecuteTime": {
     "end_time": "2022-08-04T00:46:17.420314Z",
     "start_time": "2022-08-04T00:46:17.410315Z"
    }
   },
   "source": [
    "## Diccionarios\n",
    "\n",
    "Van a asociar claves con valores"
   ]
  },
  {
   "cell_type": "code",
   "execution_count": 62,
   "id": "841df45c",
   "metadata": {
    "ExecuteTime": {
     "end_time": "2022-08-04T00:47:11.674254Z",
     "start_time": "2022-08-04T00:47:11.655242Z"
    }
   },
   "outputs": [],
   "source": [
    "d_ejemplo = {'llave1':'valor1',\n",
    "            'llave2':'valor2'}"
   ]
  },
  {
   "cell_type": "code",
   "execution_count": 64,
   "id": "dc432123",
   "metadata": {
    "ExecuteTime": {
     "end_time": "2022-08-04T00:48:23.853545Z",
     "start_time": "2022-08-04T00:48:23.836614Z"
    }
   },
   "outputs": [],
   "source": [
    "d_ejemplo['llave1'] = 'valor3'"
   ]
  },
  {
   "cell_type": "code",
   "execution_count": 65,
   "id": "a124c7ee",
   "metadata": {
    "ExecuteTime": {
     "end_time": "2022-08-04T00:48:28.228383Z",
     "start_time": "2022-08-04T00:48:28.206342Z"
    }
   },
   "outputs": [
    {
     "data": {
      "text/plain": [
       "{'llave1': 'valor3', 'llave2': 'valor2'}"
      ]
     },
     "execution_count": 65,
     "metadata": {},
     "output_type": "execute_result"
    }
   ],
   "source": [
    "d_ejemplo"
   ]
  },
  {
   "cell_type": "code",
   "execution_count": 66,
   "id": "61029a9a",
   "metadata": {
    "ExecuteTime": {
     "end_time": "2022-08-04T00:50:21.774664Z",
     "start_time": "2022-08-04T00:50:21.758664Z"
    }
   },
   "outputs": [
    {
     "data": {
      "text/plain": [
       "4"
      ]
     },
     "execution_count": 66,
     "metadata": {},
     "output_type": "execute_result"
    }
   ],
   "source": [
    "## Esto es un comentario. \n",
    "2+2"
   ]
  },
  {
   "cell_type": "markdown",
   "id": "ab27065a",
   "metadata": {},
   "source": [
    "# Funciones Built-in\n",
    "consulte la lista oficial de funciones incluidas por defecto en Python [acá](https://docs.python.org/3/library/functions.html)"
   ]
  },
  {
   "cell_type": "code",
   "execution_count": 68,
   "id": "b82b55d8",
   "metadata": {
    "ExecuteTime": {
     "end_time": "2022-08-04T00:55:03.443458Z",
     "start_time": "2022-08-04T00:55:03.428458Z"
    }
   },
   "outputs": [],
   "source": [
    "x = -2"
   ]
  },
  {
   "cell_type": "code",
   "execution_count": 69,
   "id": "eabfb0ee",
   "metadata": {
    "ExecuteTime": {
     "end_time": "2022-08-04T00:55:06.194102Z",
     "start_time": "2022-08-04T00:55:06.177106Z"
    }
   },
   "outputs": [
    {
     "data": {
      "text/plain": [
       "2"
      ]
     },
     "execution_count": 69,
     "metadata": {},
     "output_type": "execute_result"
    }
   ],
   "source": [
    "abs(x)"
   ]
  },
  {
   "cell_type": "markdown",
   "id": "b17bc098",
   "metadata": {},
   "source": [
    "y si quiero sumar los números de una lista, qué? "
   ]
  },
  {
   "cell_type": "code",
   "execution_count": 71,
   "id": "a62d9e2c",
   "metadata": {
    "ExecuteTime": {
     "end_time": "2022-08-04T00:55:54.684725Z",
     "start_time": "2022-08-04T00:55:54.669721Z"
    }
   },
   "outputs": [],
   "source": [
    "x = range(1,2400)"
   ]
  },
  {
   "cell_type": "markdown",
   "id": "4567deab",
   "metadata": {},
   "source": [
    "## Descargando la librería"
   ]
  },
  {
   "cell_type": "code",
   "execution_count": 76,
   "id": "806dff10",
   "metadata": {
    "ExecuteTime": {
     "end_time": "2022-08-04T01:03:05.270896Z",
     "start_time": "2022-08-04T01:02:33.268117Z"
    }
   },
   "outputs": [
    {
     "name": "stdout",
     "output_type": "stream",
     "text": [
      "Requirement already satisfied: numpy in c:\\users\\windows\\anaconda3\\lib\\site-packages (1.20.3)\n"
     ]
    },
    {
     "name": "stderr",
     "output_type": "stream",
     "text": [
      "WARNING: Ignoring invalid distribution -tatsmodels (c:\\users\\windows\\anaconda3\\lib\\site-packages)\n",
      "WARNING: Ignoring invalid distribution -tatsmodels (c:\\users\\windows\\anaconda3\\lib\\site-packages)\n",
      "WARNING: Ignoring invalid distribution -tatsmodels (c:\\users\\windows\\anaconda3\\lib\\site-packages)\n",
      "WARNING: Ignoring invalid distribution -tatsmodels (c:\\users\\windows\\anaconda3\\lib\\site-packages)\n",
      "WARNING: Ignoring invalid distribution -tatsmodels (c:\\users\\windows\\anaconda3\\lib\\site-packages)\n",
      "WARNING: Ignoring invalid distribution -tatsmodels (c:\\users\\windows\\anaconda3\\lib\\site-packages)\n"
     ]
    }
   ],
   "source": [
    "!pip install numpy"
   ]
  },
  {
   "cell_type": "markdown",
   "id": "a10f308b",
   "metadata": {},
   "source": [
    "# Instalando la librería"
   ]
  },
  {
   "cell_type": "markdown",
   "id": "b6119cb8",
   "metadata": {},
   "source": [
    "## Array"
   ]
  },
  {
   "cell_type": "code",
   "execution_count": 82,
   "id": "27e85dc7",
   "metadata": {
    "ExecuteTime": {
     "end_time": "2022-08-04T01:14:25.224354Z",
     "start_time": "2022-08-04T01:14:25.207410Z"
    }
   },
   "outputs": [],
   "source": [
    "a_ejemplo = np.array([1,0,0,1])"
   ]
  },
  {
   "cell_type": "code",
   "execution_count": 83,
   "id": "e3c15592",
   "metadata": {
    "ExecuteTime": {
     "end_time": "2022-08-04T01:14:29.610871Z",
     "start_time": "2022-08-04T01:14:29.589871Z"
    }
   },
   "outputs": [
    {
     "data": {
      "text/plain": [
       "array([1, 0, 0, 1])"
      ]
     },
     "execution_count": 83,
     "metadata": {},
     "output_type": "execute_result"
    }
   ],
   "source": [
    "a_ejemplo"
   ]
  },
  {
   "cell_type": "code",
   "execution_count": 5,
   "id": "42af3cf0",
   "metadata": {
    "ExecuteTime": {
     "end_time": "2022-08-04T00:40:16.820342Z",
     "start_time": "2022-08-04T00:40:16.807341Z"
    }
   },
   "outputs": [
    {
     "data": {
      "text/plain": [
       "10"
      ]
     },
     "execution_count": 5,
     "metadata": {},
     "output_type": "execute_result"
    }
   ],
   "source": [
    "5+5"
   ]
  },
  {
   "cell_type": "code",
   "execution_count": 93,
   "id": "6755039a",
   "metadata": {
    "ExecuteTime": {
     "end_time": "2022-08-04T01:24:40.960854Z",
     "start_time": "2022-08-04T01:24:40.949853Z"
    }
   },
   "outputs": [],
   "source": [
    "import numpy as np"
   ]
  },
  {
   "cell_type": "code",
   "execution_count": 94,
   "id": "60ecf1b0",
   "metadata": {
    "ExecuteTime": {
     "end_time": "2022-08-04T01:24:43.392075Z",
     "start_time": "2022-08-04T01:24:43.370078Z"
    }
   },
   "outputs": [
    {
     "data": {
      "text/plain": [
       "2878800"
      ]
     },
     "execution_count": 94,
     "metadata": {},
     "output_type": "execute_result"
    }
   ],
   "source": [
    "np.sum(x)"
   ]
  },
  {
   "cell_type": "markdown",
   "id": "d778e740",
   "metadata": {},
   "source": [
    "## DataFrame\n",
    "La información está disponible [aquí](https://www.kaggle.com/datasets/harlfoxem/housesalesprediction)"
   ]
  },
  {
   "cell_type": "code",
   "execution_count": 84,
   "id": "e481aa75",
   "metadata": {
    "ExecuteTime": {
     "end_time": "2022-08-04T01:18:42.015899Z",
     "start_time": "2022-08-04T01:18:29.895255Z"
    },
    "scrolled": true
   },
   "outputs": [
    {
     "name": "stdout",
     "output_type": "stream",
     "text": [
      "Requirement already satisfied: pandas in c:\\users\\windows\\appdata\\roaming\\python\\python39\\site-packages (1.3.5)\n",
      "Requirement already satisfied: pytz>=2017.3 in c:\\users\\windows\\appdata\\roaming\\python\\python39\\site-packages (from pandas) (2021.1)\n",
      "Requirement already satisfied: python-dateutil>=2.7.3 in c:\\users\\windows\\anaconda3\\lib\\site-packages (from pandas) (2.8.2)\n",
      "Requirement already satisfied: numpy>=1.17.3 in c:\\users\\windows\\anaconda3\\lib\\site-packages (from pandas) (1.20.3)\n",
      "Requirement already satisfied: six>=1.5 in c:\\users\\windows\\anaconda3\\lib\\site-packages (from python-dateutil>=2.7.3->pandas) (1.16.0)\n"
     ]
    },
    {
     "name": "stderr",
     "output_type": "stream",
     "text": [
      "WARNING: Ignoring invalid distribution -tatsmodels (c:\\users\\windows\\anaconda3\\lib\\site-packages)\n",
      "WARNING: Ignoring invalid distribution -tatsmodels (c:\\users\\windows\\anaconda3\\lib\\site-packages)\n",
      "WARNING: Ignoring invalid distribution -tatsmodels (c:\\users\\windows\\anaconda3\\lib\\site-packages)\n",
      "WARNING: Ignoring invalid distribution -tatsmodels (c:\\users\\windows\\anaconda3\\lib\\site-packages)\n",
      "WARNING: Ignoring invalid distribution -tatsmodels (c:\\users\\windows\\anaconda3\\lib\\site-packages)\n",
      "WARNING: Ignoring invalid distribution -tatsmodels (c:\\users\\windows\\anaconda3\\lib\\site-packages)\n"
     ]
    }
   ],
   "source": [
    "!pip install pandas"
   ]
  },
  {
   "cell_type": "code",
   "execution_count": 90,
   "id": "3a652e63",
   "metadata": {
    "ExecuteTime": {
     "end_time": "2022-08-04T01:24:08.277043Z",
     "start_time": "2022-08-04T01:24:03.249750Z"
    }
   },
   "outputs": [],
   "source": [
    "import pandas as pd"
   ]
  },
  {
   "cell_type": "code",
   "execution_count": 96,
   "id": "d45ecf47",
   "metadata": {
    "ExecuteTime": {
     "end_time": "2022-08-04T01:28:55.384985Z",
     "start_time": "2022-08-04T01:28:55.206983Z"
    }
   },
   "outputs": [],
   "source": [
    "df = pd.read_csv('./data/kc_house_data.csv')"
   ]
  },
  {
   "cell_type": "code",
   "execution_count": 109,
   "id": "ed1eb966",
   "metadata": {
    "ExecuteTime": {
     "end_time": "2022-08-04T01:44:40.166709Z",
     "start_time": "2022-08-04T01:44:40.121709Z"
    }
   },
   "outputs": [
    {
     "name": "stdout",
     "output_type": "stream",
     "text": [
      "<class 'pandas.core.frame.DataFrame'>\n",
      "RangeIndex: 21613 entries, 0 to 21612\n",
      "Data columns (total 21 columns):\n",
      " #   Column         Non-Null Count  Dtype  \n",
      "---  ------         --------------  -----  \n",
      " 0   id             21613 non-null  int64  \n",
      " 1   date           21613 non-null  object \n",
      " 2   price          21613 non-null  float64\n",
      " 3   bedrooms       21613 non-null  int64  \n",
      " 4   bathrooms      21613 non-null  float64\n",
      " 5   sqft_living    21613 non-null  int64  \n",
      " 6   sqft_lot       21613 non-null  int64  \n",
      " 7   floors         21613 non-null  float64\n",
      " 8   waterfront     21613 non-null  int64  \n",
      " 9   view           21613 non-null  int64  \n",
      " 10  condition      21613 non-null  int64  \n",
      " 11  grade          21613 non-null  int64  \n",
      " 12  sqft_above     21613 non-null  int64  \n",
      " 13  sqft_basement  21613 non-null  int64  \n",
      " 14  yr_built       21613 non-null  int64  \n",
      " 15  yr_renovated   21613 non-null  int64  \n",
      " 16  zipcode        21613 non-null  int64  \n",
      " 17  lat            21613 non-null  float64\n",
      " 18  long           21613 non-null  float64\n",
      " 19  sqft_living15  21613 non-null  int64  \n",
      " 20  sqft_lot15     21613 non-null  int64  \n",
      "dtypes: float64(5), int64(15), object(1)\n",
      "memory usage: 3.5+ MB\n"
     ]
    }
   ],
   "source": [
    "df.info()"
   ]
  },
  {
   "cell_type": "markdown",
   "id": "02bfef48",
   "metadata": {},
   "source": [
    "## Funciones vs métodos"
   ]
  },
  {
   "cell_type": "code",
   "execution_count": 100,
   "id": "f23f0651",
   "metadata": {
    "ExecuteTime": {
     "end_time": "2022-08-04T01:37:53.237616Z",
     "start_time": "2022-08-04T01:37:53.213625Z"
    }
   },
   "outputs": [
    {
     "data": {
      "text/plain": [
       "540088.1417665294"
      ]
     },
     "execution_count": 100,
     "metadata": {},
     "output_type": "execute_result"
    }
   ],
   "source": [
    "np.mean(df['price']) ### FUNCIÓN!"
   ]
  },
  {
   "cell_type": "code",
   "execution_count": 103,
   "id": "419c5c6b",
   "metadata": {
    "ExecuteTime": {
     "end_time": "2022-08-04T01:39:53.351003Z",
     "start_time": "2022-08-04T01:39:53.342004Z"
    }
   },
   "outputs": [
    {
     "data": {
      "text/plain": [
       "540088.1417665294"
      ]
     },
     "execution_count": 103,
     "metadata": {},
     "output_type": "execute_result"
    }
   ],
   "source": [
    "df['price'].mean() ### MÉTODO! "
   ]
  },
  {
   "cell_type": "code",
   "execution_count": 104,
   "id": "e415ea81",
   "metadata": {
    "ExecuteTime": {
     "end_time": "2022-08-04T01:41:58.462647Z",
     "start_time": "2022-08-04T01:41:58.425651Z"
    }
   },
   "outputs": [
    {
     "data": {
      "text/plain": [
       "2.5"
      ]
     },
     "execution_count": 104,
     "metadata": {},
     "output_type": "execute_result"
    }
   ],
   "source": [
    "np.mean([1,2,3,4])"
   ]
  },
  {
   "cell_type": "code",
   "execution_count": 105,
   "id": "8c7780ba",
   "metadata": {
    "ExecuteTime": {
     "end_time": "2022-08-04T01:42:13.114032Z",
     "start_time": "2022-08-04T01:42:12.902039Z"
    }
   },
   "outputs": [
    {
     "ename": "AttributeError",
     "evalue": "'list' object has no attribute 'mean'",
     "output_type": "error",
     "traceback": [
      "\u001b[1;31m---------------------------------------------------------------------------\u001b[0m",
      "\u001b[1;31mAttributeError\u001b[0m                            Traceback (most recent call last)",
      "\u001b[1;32m~\\AppData\\Local\\Temp/ipykernel_8760/3073827460.py\u001b[0m in \u001b[0;36m<module>\u001b[1;34m\u001b[0m\n\u001b[1;32m----> 1\u001b[1;33m \u001b[1;33m[\u001b[0m\u001b[1;36m1\u001b[0m\u001b[1;33m,\u001b[0m\u001b[1;36m2\u001b[0m\u001b[1;33m,\u001b[0m\u001b[1;36m3\u001b[0m\u001b[1;33m,\u001b[0m\u001b[1;36m4\u001b[0m\u001b[1;33m]\u001b[0m\u001b[1;33m.\u001b[0m\u001b[0mmean\u001b[0m\u001b[1;33m(\u001b[0m\u001b[1;33m)\u001b[0m\u001b[1;33m\u001b[0m\u001b[1;33m\u001b[0m\u001b[0m\n\u001b[0m",
      "\u001b[1;31mAttributeError\u001b[0m: 'list' object has no attribute 'mean'"
     ]
    }
   ],
   "source": [
    "[1,2,3,4].mean()"
   ]
  },
  {
   "cell_type": "code",
   "execution_count": 111,
   "id": "3afc531e",
   "metadata": {
    "ExecuteTime": {
     "end_time": "2022-08-04T01:48:22.153678Z",
     "start_time": "2022-08-04T01:48:22.143681Z"
    }
   },
   "outputs": [],
   "source": [
    "persona1 = persona(nombre='Sebastien', apellido= 'Lozano')"
   ]
  },
  {
   "cell_type": "code",
   "execution_count": 113,
   "id": "da6bb359",
   "metadata": {
    "ExecuteTime": {
     "end_time": "2022-08-04T01:48:36.328857Z",
     "start_time": "2022-08-04T01:48:36.320875Z"
    }
   },
   "outputs": [
    {
     "data": {
      "text/plain": [
       "'Lozano'"
      ]
     },
     "execution_count": 113,
     "metadata": {},
     "output_type": "execute_result"
    }
   ],
   "source": [
    "persona1.apellido"
   ]
  },
  {
   "cell_type": "code",
   "execution_count": 118,
   "id": "5f3bc8e9",
   "metadata": {
    "ExecuteTime": {
     "end_time": "2022-08-04T01:51:53.655032Z",
     "start_time": "2022-08-04T01:51:53.634018Z"
    }
   },
   "outputs": [
    {
     "data": {
      "text/plain": [
       "'Hola,Profesor Xavier. Mi nombre es Sebastien'"
      ]
     },
     "execution_count": 118,
     "metadata": {},
     "output_type": "execute_result"
    }
   ],
   "source": [
    "persona1.salude('Profesor Xavier')"
   ]
  }
 ],
 "metadata": {
  "kernelspec": {
   "display_name": "Python 3 (ipykernel)",
   "language": "python",
   "name": "python3"
  },
  "language_info": {
   "codemirror_mode": {
    "name": "ipython",
    "version": 3
   },
   "file_extension": ".py",
   "mimetype": "text/x-python",
   "name": "python",
   "nbconvert_exporter": "python",
   "pygments_lexer": "ipython3",
   "version": "3.9.7"
  },
  "toc": {
   "base_numbering": 1,
   "nav_menu": {},
   "number_sections": true,
   "sideBar": true,
   "skip_h1_title": false,
   "title_cell": "Table of Contents",
   "title_sidebar": "Contents",
   "toc_cell": false,
   "toc_position": {},
   "toc_section_display": true,
   "toc_window_display": false
  },
  "varInspector": {
   "cols": {
    "lenName": 16,
    "lenType": 16,
    "lenVar": 40
   },
   "kernels_config": {
    "python": {
     "delete_cmd_postfix": "",
     "delete_cmd_prefix": "del ",
     "library": "var_list.py",
     "varRefreshCmd": "print(var_dic_list())"
    },
    "r": {
     "delete_cmd_postfix": ") ",
     "delete_cmd_prefix": "rm(",
     "library": "var_list.r",
     "varRefreshCmd": "cat(var_dic_list()) "
    }
   },
   "types_to_exclude": [
    "module",
    "function",
    "builtin_function_or_method",
    "instance",
    "_Feature"
   ],
   "window_display": false
  }
 },
 "nbformat": 4,
 "nbformat_minor": 5
}
