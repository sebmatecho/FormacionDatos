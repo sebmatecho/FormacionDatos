{
 "cells": [
  {
   "cell_type": "markdown",
   "id": "b5b6e3a1",
   "metadata": {},
   "source": [
    "# Proyecto de datos\n",
    "\n",
    "En esta formación es de nuestro interés garantizar una primera experienca práctica con Python\n",
    "\n",
    "## Contexto \n",
    "\n",
    "Hay un grupo de emprendedores que van a proponer una nueva firma inmobiliaria en Seattle, WA (USA). Como parte de su estudio de mercado, se hace necesario conocer ciertas dinámicas del mercado inmobiliario local. Para tal propósito, reunen información de un año de dinámica inmobiliaria en tal región (Mayo del 2014 a mayo del 2015). \n",
    "Tal grupo de emprendedores entra en contacto con nosotros para poder responder algunas preguntas que podrían dinamizar su toma de decisiones respecto al valor de marca. \n",
    "\n",
    "## Datos. \n",
    "Los datos están disponibles [aquí](https://www.kaggle.com/datasets/harlfoxem/housesalesprediction)\n",
    "\n",
    "## Preguntas\n",
    "15. Cree una nueva columna llamada: \"house_age\"\n",
    "    - Si el valor de la columna \"fecha\" es mayor que 2015-01-01 => 'new_house'\n",
    "    - Si el valor de la columna \"fecha\" es menor que 2015-01-01 => 'old_house' '\n",
    "16. Cree una nueva columna llamada: \"dormitory_type\"\n",
    "    - Si el valor de la columna “dormitorios” es igual a 1 => ‘estudio’\n",
    "    - Si el valor de la columna “dormitorios” es igual a 2 => 'apartamento'\n",
    "    - Si el valor de la columna “dormitorios” es mayor a 2 => 'casa'\n",
    "17. Cree una nueva columna llamada: \"condition_type\"\n",
    "    - Si el valor de la columna \"condición\" es menor o igual a 2 => 'malo'\n",
    "    - Si el valor de la columna \"condición\" es igual a 3 o 4 => 'regular'\n",
    "    - Si el valor de la columna \"condición\" es igual a 5 => 'bueno'\n",
    "18. Cambie el TIPO en la columna \"condición\" a CADENA\n",
    "20. Elimine las columnas: \"sqft_living15\" y \"sqft_lot15\"\n",
    "21. Cambie el TIPO en la columna \"yr_build\" a FECHA\n",
    "22. Cambie el TIPO en la columna \"yr_renovated\" a FECHA\n",
    "23. ¿Cuál es la fecha más temprana de construcción de una propiedad?\n",
    "24. ¿Cuál es la fecha de renovación más temprana para una propiedad?\n",
    "25. ¿Cuántas propiedades tienen 2 pisos?\n",
    "26. ¿Cuántas propiedades se encuentran en condición igual a “regular”?\n",
    "27. ¿Cuántas propiedades están en una condición igual a “mala” y tienen “vistas al agua”?\n",
    "28. ¿Cuántas propiedades tienen una condición igual a “buena” y son “nueva_casa”?\n",
    "29. ¿Cuál es el valor de la propiedad de “estudio” más cara?\n",
    "30. ¿Cuántas propiedades de “apartamentos” se renovaron en 2015?\n",
    "31. ¿Cuál es la mayor cantidad de cuartos que tiene una propiedad tipo “casa”?\n",
    "32. ¿Cuántas propiedades de “casa_nueva” se renovaron en 2014?\n",
    "33. Seleccione las columnas: “id”, “fecha”, “precio”, “pisos”, “código postal” por método:\n",
    "    - Directo por nombre de columna.\n",
    "    - Por los Índices.\n",
    "    - Por los índices de las filas y el nombre de las columnas\n",
    "    - Índices booleanos\n",
    "\n"
   ]
  },
  {
   "cell_type": "code",
   "execution_count": null,
   "id": "cd77f24e",
   "metadata": {},
   "outputs": [],
   "source": []
  },
  {
   "cell_type": "markdown",
   "id": "1fa3ac08",
   "metadata": {
    "ExecuteTime": {
     "end_time": "2022-08-18T00:25:44.411844Z",
     "start_time": "2022-08-18T00:25:44.380839Z"
    }
   },
   "source": [
    "## Definición de variables\n",
    "\n",
    "- id - Identificación única para cada casa vendida\n",
    "- date - Fecha de la venta de la casa\n",
    "- price - Precio de cada vivienda vendida\n",
    "- bedrooms - Número de dormitorios\n",
    "- bathrooms - Número de baños, donde .5 representa una habitación con inodoro pero sin ducha\n",
    "- sqft_living- Pies cuadrados del espacio habitable interior de los apartamentos\n",
    "- sqft_lot - Pies cuadrados del espacio del terreno\n",
    "- floors - Número de plantas\n",
    "- waterfront - una variable ficticia para determinar si el apartamento tenía vistas al paseo marítimo o no.\n",
    "- view - Un índice de 0 a 4 de qué tan buena fue la vista de la propiedad\n",
    "- condition- Un índice del 1 al 5 sobre el estado del apartamento,\n",
    "- grade- un índice de 1 a 13, donde 1-3 no alcanza la construcción y el diseño de edificios, 7 tiene un nivel medio de construcción y diseño, y 11-13 tiene un nivel de construcción y diseño de alta calidad.\n",
    "- sqft_above - los pies cuadrados del espacio interior de la vivienda que está por encima del nivel del suelo\n",
    "- sqft_basement - los pies cuadrados del espacio interior de la vivienda que está por debajo del nivel del suelo el año en que se construyó inicialmente la casa\n",
    "- yr_build - El año de la construcción\n",
    "- yr_renovated - El año de la última renovación de la casa\n",
    "- zipcode - En qué área de código postal se encuentra la casa\n",
    "- lat- latitud\n",
    "- long- Longitud\n",
    "- sqft_living15 - Los pies cuadrados de espacio habitable de vivienda interior para los 15 vecinos más cercanos\n",
    "- sqft_lot15 - Los pies cuadrados de los lotes de terreno de los 15 vecinos más cercanos\n",
    "\n",
    "\n",
    "\n"
   ]
  },
  {
   "cell_type": "markdown",
   "id": "20a24bc8",
   "metadata": {},
   "source": [
    "## Preparación"
   ]
  },
  {
   "cell_type": "code",
   "execution_count": 2,
   "id": "a25135aa",
   "metadata": {
    "ExecuteTime": {
     "end_time": "2022-09-10T14:18:25.997073Z",
     "start_time": "2022-09-10T14:18:22.142325Z"
    }
   },
   "outputs": [],
   "source": [
    "import pandas as pd "
   ]
  },
  {
   "cell_type": "code",
   "execution_count": 75,
   "id": "1ea37362",
   "metadata": {
    "ExecuteTime": {
     "end_time": "2022-09-10T14:58:32.946293Z",
     "start_time": "2022-09-10T14:58:32.658292Z"
    }
   },
   "outputs": [],
   "source": [
    "df = pd.read_csv('./data/kc_house_data.csv')"
   ]
  },
  {
   "cell_type": "code",
   "execution_count": 8,
   "id": "edfb5e55",
   "metadata": {
    "ExecuteTime": {
     "end_time": "2022-09-10T14:22:20.270989Z",
     "start_time": "2022-09-10T14:22:20.233978Z"
    }
   },
   "outputs": [
    {
     "name": "stdout",
     "output_type": "stream",
     "text": [
      "<class 'pandas.core.frame.DataFrame'>\n",
      "RangeIndex: 21613 entries, 0 to 21612\n",
      "Data columns (total 21 columns):\n",
      " #   Column         Non-Null Count  Dtype  \n",
      "---  ------         --------------  -----  \n",
      " 0   id             21613 non-null  int64  \n",
      " 1   date           21613 non-null  object \n",
      " 2   price          21613 non-null  float64\n",
      " 3   bedrooms       21613 non-null  int64  \n",
      " 4   bathrooms      21613 non-null  float64\n",
      " 5   sqft_living    21613 non-null  int64  \n",
      " 6   sqft_lot       21613 non-null  int64  \n",
      " 7   floors         21613 non-null  float64\n",
      " 8   waterfront     21613 non-null  int64  \n",
      " 9   view           21613 non-null  int64  \n",
      " 10  condition      21613 non-null  int64  \n",
      " 11  grade          21613 non-null  int64  \n",
      " 12  sqft_above     21613 non-null  int64  \n",
      " 13  sqft_basement  21613 non-null  int64  \n",
      " 14  yr_built       21613 non-null  int64  \n",
      " 15  yr_renovated   21613 non-null  int64  \n",
      " 16  zipcode        21613 non-null  int64  \n",
      " 17  lat            21613 non-null  float64\n",
      " 18  long           21613 non-null  float64\n",
      " 19  sqft_living15  21613 non-null  int64  \n",
      " 20  sqft_lot15     21613 non-null  int64  \n",
      "dtypes: float64(5), int64(15), object(1)\n",
      "memory usage: 3.5+ MB\n"
     ]
    }
   ],
   "source": [
    "df.info()"
   ]
  },
  {
   "cell_type": "markdown",
   "id": "df5e9621",
   "metadata": {
    "ExecuteTime": {
     "end_time": "2022-09-10T14:15:21.123476Z",
     "start_time": "2022-09-10T14:15:21.111472Z"
    }
   },
   "source": [
    "# 15. Cree una nueva columna llamada: \"house_age\"\n",
    "    - Si el valor de la columna \"date\" es mayor que 1995-01-01 => 'new_house'\n",
    "    - Si el valor de la columna \"date\" es menor que 1995-01-01 => 'old_house'"
   ]
  },
  {
   "cell_type": "code",
   "execution_count": 73,
   "id": "05ee2c28",
   "metadata": {
    "ExecuteTime": {
     "end_time": "2022-09-10T14:57:35.221544Z",
     "start_time": "2022-09-10T14:57:35.200543Z"
    }
   },
   "outputs": [],
   "source": [
    "def house(year): \n",
    "    if year >= 1995: \n",
    "        return 'new_house'\n",
    "    else: \n",
    "        return 'old_house'"
   ]
  },
  {
   "cell_type": "code",
   "execution_count": 76,
   "id": "5f8ea409",
   "metadata": {
    "ExecuteTime": {
     "end_time": "2022-09-10T14:58:41.022095Z",
     "start_time": "2022-09-10T14:58:41.012095Z"
    }
   },
   "outputs": [],
   "source": [
    "# df['house_age'] = df['yr_built'].apply(house)"
   ]
  },
  {
   "cell_type": "code",
   "execution_count": 77,
   "id": "55fd017b",
   "metadata": {
    "ExecuteTime": {
     "end_time": "2022-09-10T14:58:42.269804Z",
     "start_time": "2022-09-10T14:58:42.244800Z"
    }
   },
   "outputs": [],
   "source": [
    "df['house_age']  = df['yr_built'].apply(lambda x: 'new_house' if x >= 1995 else 'old_house' )"
   ]
  },
  {
   "cell_type": "code",
   "execution_count": 79,
   "id": "f2283046",
   "metadata": {
    "ExecuteTime": {
     "end_time": "2022-09-10T14:58:45.668267Z",
     "start_time": "2022-09-10T14:58:45.532270Z"
    }
   },
   "outputs": [
    {
     "data": {
      "text/html": [
       "<div>\n",
       "<style scoped>\n",
       "    .dataframe tbody tr th:only-of-type {\n",
       "        vertical-align: middle;\n",
       "    }\n",
       "\n",
       "    .dataframe tbody tr th {\n",
       "        vertical-align: top;\n",
       "    }\n",
       "\n",
       "    .dataframe thead th {\n",
       "        text-align: right;\n",
       "    }\n",
       "</style>\n",
       "<table border=\"1\" class=\"dataframe\">\n",
       "  <thead>\n",
       "    <tr style=\"text-align: right;\">\n",
       "      <th></th>\n",
       "      <th>id</th>\n",
       "      <th>date</th>\n",
       "      <th>price</th>\n",
       "      <th>bedrooms</th>\n",
       "      <th>bathrooms</th>\n",
       "      <th>sqft_living</th>\n",
       "      <th>sqft_lot</th>\n",
       "      <th>floors</th>\n",
       "      <th>waterfront</th>\n",
       "      <th>view</th>\n",
       "      <th>...</th>\n",
       "      <th>sqft_above</th>\n",
       "      <th>sqft_basement</th>\n",
       "      <th>yr_built</th>\n",
       "      <th>yr_renovated</th>\n",
       "      <th>zipcode</th>\n",
       "      <th>lat</th>\n",
       "      <th>long</th>\n",
       "      <th>sqft_living15</th>\n",
       "      <th>sqft_lot15</th>\n",
       "      <th>house_age</th>\n",
       "    </tr>\n",
       "  </thead>\n",
       "  <tbody>\n",
       "    <tr>\n",
       "      <th>0</th>\n",
       "      <td>7129300520</td>\n",
       "      <td>20141013T000000</td>\n",
       "      <td>221900.0</td>\n",
       "      <td>3</td>\n",
       "      <td>1.00</td>\n",
       "      <td>1180</td>\n",
       "      <td>5650</td>\n",
       "      <td>1.0</td>\n",
       "      <td>0</td>\n",
       "      <td>0</td>\n",
       "      <td>...</td>\n",
       "      <td>1180</td>\n",
       "      <td>0</td>\n",
       "      <td>1955</td>\n",
       "      <td>0</td>\n",
       "      <td>98178</td>\n",
       "      <td>47.5112</td>\n",
       "      <td>-122.257</td>\n",
       "      <td>1340</td>\n",
       "      <td>5650</td>\n",
       "      <td>old_house</td>\n",
       "    </tr>\n",
       "    <tr>\n",
       "      <th>1</th>\n",
       "      <td>6414100192</td>\n",
       "      <td>20141209T000000</td>\n",
       "      <td>538000.0</td>\n",
       "      <td>3</td>\n",
       "      <td>2.25</td>\n",
       "      <td>2570</td>\n",
       "      <td>7242</td>\n",
       "      <td>2.0</td>\n",
       "      <td>0</td>\n",
       "      <td>0</td>\n",
       "      <td>...</td>\n",
       "      <td>2170</td>\n",
       "      <td>400</td>\n",
       "      <td>1951</td>\n",
       "      <td>1991</td>\n",
       "      <td>98125</td>\n",
       "      <td>47.7210</td>\n",
       "      <td>-122.319</td>\n",
       "      <td>1690</td>\n",
       "      <td>7639</td>\n",
       "      <td>old_house</td>\n",
       "    </tr>\n",
       "    <tr>\n",
       "      <th>2</th>\n",
       "      <td>5631500400</td>\n",
       "      <td>20150225T000000</td>\n",
       "      <td>180000.0</td>\n",
       "      <td>2</td>\n",
       "      <td>1.00</td>\n",
       "      <td>770</td>\n",
       "      <td>10000</td>\n",
       "      <td>1.0</td>\n",
       "      <td>0</td>\n",
       "      <td>0</td>\n",
       "      <td>...</td>\n",
       "      <td>770</td>\n",
       "      <td>0</td>\n",
       "      <td>1933</td>\n",
       "      <td>0</td>\n",
       "      <td>98028</td>\n",
       "      <td>47.7379</td>\n",
       "      <td>-122.233</td>\n",
       "      <td>2720</td>\n",
       "      <td>8062</td>\n",
       "      <td>old_house</td>\n",
       "    </tr>\n",
       "    <tr>\n",
       "      <th>3</th>\n",
       "      <td>2487200875</td>\n",
       "      <td>20141209T000000</td>\n",
       "      <td>604000.0</td>\n",
       "      <td>4</td>\n",
       "      <td>3.00</td>\n",
       "      <td>1960</td>\n",
       "      <td>5000</td>\n",
       "      <td>1.0</td>\n",
       "      <td>0</td>\n",
       "      <td>0</td>\n",
       "      <td>...</td>\n",
       "      <td>1050</td>\n",
       "      <td>910</td>\n",
       "      <td>1965</td>\n",
       "      <td>0</td>\n",
       "      <td>98136</td>\n",
       "      <td>47.5208</td>\n",
       "      <td>-122.393</td>\n",
       "      <td>1360</td>\n",
       "      <td>5000</td>\n",
       "      <td>old_house</td>\n",
       "    </tr>\n",
       "    <tr>\n",
       "      <th>4</th>\n",
       "      <td>1954400510</td>\n",
       "      <td>20150218T000000</td>\n",
       "      <td>510000.0</td>\n",
       "      <td>3</td>\n",
       "      <td>2.00</td>\n",
       "      <td>1680</td>\n",
       "      <td>8080</td>\n",
       "      <td>1.0</td>\n",
       "      <td>0</td>\n",
       "      <td>0</td>\n",
       "      <td>...</td>\n",
       "      <td>1680</td>\n",
       "      <td>0</td>\n",
       "      <td>1987</td>\n",
       "      <td>0</td>\n",
       "      <td>98074</td>\n",
       "      <td>47.6168</td>\n",
       "      <td>-122.045</td>\n",
       "      <td>1800</td>\n",
       "      <td>7503</td>\n",
       "      <td>old_house</td>\n",
       "    </tr>\n",
       "    <tr>\n",
       "      <th>...</th>\n",
       "      <td>...</td>\n",
       "      <td>...</td>\n",
       "      <td>...</td>\n",
       "      <td>...</td>\n",
       "      <td>...</td>\n",
       "      <td>...</td>\n",
       "      <td>...</td>\n",
       "      <td>...</td>\n",
       "      <td>...</td>\n",
       "      <td>...</td>\n",
       "      <td>...</td>\n",
       "      <td>...</td>\n",
       "      <td>...</td>\n",
       "      <td>...</td>\n",
       "      <td>...</td>\n",
       "      <td>...</td>\n",
       "      <td>...</td>\n",
       "      <td>...</td>\n",
       "      <td>...</td>\n",
       "      <td>...</td>\n",
       "      <td>...</td>\n",
       "    </tr>\n",
       "    <tr>\n",
       "      <th>21608</th>\n",
       "      <td>263000018</td>\n",
       "      <td>20140521T000000</td>\n",
       "      <td>360000.0</td>\n",
       "      <td>3</td>\n",
       "      <td>2.50</td>\n",
       "      <td>1530</td>\n",
       "      <td>1131</td>\n",
       "      <td>3.0</td>\n",
       "      <td>0</td>\n",
       "      <td>0</td>\n",
       "      <td>...</td>\n",
       "      <td>1530</td>\n",
       "      <td>0</td>\n",
       "      <td>2009</td>\n",
       "      <td>0</td>\n",
       "      <td>98103</td>\n",
       "      <td>47.6993</td>\n",
       "      <td>-122.346</td>\n",
       "      <td>1530</td>\n",
       "      <td>1509</td>\n",
       "      <td>new_house</td>\n",
       "    </tr>\n",
       "    <tr>\n",
       "      <th>21609</th>\n",
       "      <td>6600060120</td>\n",
       "      <td>20150223T000000</td>\n",
       "      <td>400000.0</td>\n",
       "      <td>4</td>\n",
       "      <td>2.50</td>\n",
       "      <td>2310</td>\n",
       "      <td>5813</td>\n",
       "      <td>2.0</td>\n",
       "      <td>0</td>\n",
       "      <td>0</td>\n",
       "      <td>...</td>\n",
       "      <td>2310</td>\n",
       "      <td>0</td>\n",
       "      <td>2014</td>\n",
       "      <td>0</td>\n",
       "      <td>98146</td>\n",
       "      <td>47.5107</td>\n",
       "      <td>-122.362</td>\n",
       "      <td>1830</td>\n",
       "      <td>7200</td>\n",
       "      <td>new_house</td>\n",
       "    </tr>\n",
       "    <tr>\n",
       "      <th>21610</th>\n",
       "      <td>1523300141</td>\n",
       "      <td>20140623T000000</td>\n",
       "      <td>402101.0</td>\n",
       "      <td>2</td>\n",
       "      <td>0.75</td>\n",
       "      <td>1020</td>\n",
       "      <td>1350</td>\n",
       "      <td>2.0</td>\n",
       "      <td>0</td>\n",
       "      <td>0</td>\n",
       "      <td>...</td>\n",
       "      <td>1020</td>\n",
       "      <td>0</td>\n",
       "      <td>2009</td>\n",
       "      <td>0</td>\n",
       "      <td>98144</td>\n",
       "      <td>47.5944</td>\n",
       "      <td>-122.299</td>\n",
       "      <td>1020</td>\n",
       "      <td>2007</td>\n",
       "      <td>new_house</td>\n",
       "    </tr>\n",
       "    <tr>\n",
       "      <th>21611</th>\n",
       "      <td>291310100</td>\n",
       "      <td>20150116T000000</td>\n",
       "      <td>400000.0</td>\n",
       "      <td>3</td>\n",
       "      <td>2.50</td>\n",
       "      <td>1600</td>\n",
       "      <td>2388</td>\n",
       "      <td>2.0</td>\n",
       "      <td>0</td>\n",
       "      <td>0</td>\n",
       "      <td>...</td>\n",
       "      <td>1600</td>\n",
       "      <td>0</td>\n",
       "      <td>2004</td>\n",
       "      <td>0</td>\n",
       "      <td>98027</td>\n",
       "      <td>47.5345</td>\n",
       "      <td>-122.069</td>\n",
       "      <td>1410</td>\n",
       "      <td>1287</td>\n",
       "      <td>new_house</td>\n",
       "    </tr>\n",
       "    <tr>\n",
       "      <th>21612</th>\n",
       "      <td>1523300157</td>\n",
       "      <td>20141015T000000</td>\n",
       "      <td>325000.0</td>\n",
       "      <td>2</td>\n",
       "      <td>0.75</td>\n",
       "      <td>1020</td>\n",
       "      <td>1076</td>\n",
       "      <td>2.0</td>\n",
       "      <td>0</td>\n",
       "      <td>0</td>\n",
       "      <td>...</td>\n",
       "      <td>1020</td>\n",
       "      <td>0</td>\n",
       "      <td>2008</td>\n",
       "      <td>0</td>\n",
       "      <td>98144</td>\n",
       "      <td>47.5941</td>\n",
       "      <td>-122.299</td>\n",
       "      <td>1020</td>\n",
       "      <td>1357</td>\n",
       "      <td>new_house</td>\n",
       "    </tr>\n",
       "  </tbody>\n",
       "</table>\n",
       "<p>21613 rows × 22 columns</p>\n",
       "</div>"
      ],
      "text/plain": [
       "               id             date     price  bedrooms  bathrooms  \\\n",
       "0      7129300520  20141013T000000  221900.0         3       1.00   \n",
       "1      6414100192  20141209T000000  538000.0         3       2.25   \n",
       "2      5631500400  20150225T000000  180000.0         2       1.00   \n",
       "3      2487200875  20141209T000000  604000.0         4       3.00   \n",
       "4      1954400510  20150218T000000  510000.0         3       2.00   \n",
       "...           ...              ...       ...       ...        ...   \n",
       "21608   263000018  20140521T000000  360000.0         3       2.50   \n",
       "21609  6600060120  20150223T000000  400000.0         4       2.50   \n",
       "21610  1523300141  20140623T000000  402101.0         2       0.75   \n",
       "21611   291310100  20150116T000000  400000.0         3       2.50   \n",
       "21612  1523300157  20141015T000000  325000.0         2       0.75   \n",
       "\n",
       "       sqft_living  sqft_lot  floors  waterfront  view  ...  sqft_above  \\\n",
       "0             1180      5650     1.0           0     0  ...        1180   \n",
       "1             2570      7242     2.0           0     0  ...        2170   \n",
       "2              770     10000     1.0           0     0  ...         770   \n",
       "3             1960      5000     1.0           0     0  ...        1050   \n",
       "4             1680      8080     1.0           0     0  ...        1680   \n",
       "...            ...       ...     ...         ...   ...  ...         ...   \n",
       "21608         1530      1131     3.0           0     0  ...        1530   \n",
       "21609         2310      5813     2.0           0     0  ...        2310   \n",
       "21610         1020      1350     2.0           0     0  ...        1020   \n",
       "21611         1600      2388     2.0           0     0  ...        1600   \n",
       "21612         1020      1076     2.0           0     0  ...        1020   \n",
       "\n",
       "       sqft_basement  yr_built  yr_renovated  zipcode      lat     long  \\\n",
       "0                  0      1955             0    98178  47.5112 -122.257   \n",
       "1                400      1951          1991    98125  47.7210 -122.319   \n",
       "2                  0      1933             0    98028  47.7379 -122.233   \n",
       "3                910      1965             0    98136  47.5208 -122.393   \n",
       "4                  0      1987             0    98074  47.6168 -122.045   \n",
       "...              ...       ...           ...      ...      ...      ...   \n",
       "21608              0      2009             0    98103  47.6993 -122.346   \n",
       "21609              0      2014             0    98146  47.5107 -122.362   \n",
       "21610              0      2009             0    98144  47.5944 -122.299   \n",
       "21611              0      2004             0    98027  47.5345 -122.069   \n",
       "21612              0      2008             0    98144  47.5941 -122.299   \n",
       "\n",
       "       sqft_living15  sqft_lot15  house_age  \n",
       "0               1340        5650  old_house  \n",
       "1               1690        7639  old_house  \n",
       "2               2720        8062  old_house  \n",
       "3               1360        5000  old_house  \n",
       "4               1800        7503  old_house  \n",
       "...              ...         ...        ...  \n",
       "21608           1530        1509  new_house  \n",
       "21609           1830        7200  new_house  \n",
       "21610           1020        2007  new_house  \n",
       "21611           1410        1287  new_house  \n",
       "21612           1020        1357  new_house  \n",
       "\n",
       "[21613 rows x 22 columns]"
      ]
     },
     "execution_count": 79,
     "metadata": {},
     "output_type": "execute_result"
    }
   ],
   "source": [
    "df"
   ]
  },
  {
   "cell_type": "markdown",
   "id": "1dadf405",
   "metadata": {},
   "source": [
    "# 16. Cree una nueva columna llamada: \"dormitory_type\"\n",
    "    - Si el valor de la columna “dormitorios” es igual a 1 => ‘estudio’\n",
    "    - Si el valor de la columna “dormitorios” es igual a 2 => 'apartamento'\n",
    "    - Si el valor de la columna “dormitorios” es mayor a 2 => 'casa'"
   ]
  },
  {
   "cell_type": "code",
   "execution_count": 84,
   "id": "38f35d10",
   "metadata": {
    "ExecuteTime": {
     "end_time": "2022-09-10T15:00:55.856673Z",
     "start_time": "2022-09-10T15:00:55.808676Z"
    }
   },
   "outputs": [],
   "source": [
    "df['dormitory_type'] = df['bedrooms'].apply(lambda x:   'studio' if x == 1 else \n",
    "                                                        'apartment' if x == 2 else \n",
    "                                                        'house')"
   ]
  },
  {
   "cell_type": "markdown",
   "id": "1ecab5da",
   "metadata": {},
   "source": [
    "# 17. Cree una nueva columna llamada: \"condition_type\"\n",
    "    - Si el valor de la columna \"condición\" es menor o igual a 2 => 'malo'\n",
    "    - Si el valor de la columna \"condición\" es igual a 3 o 4 => 'regular'\n",
    "    - Si el valor de la columna \"condición\" es igual a 5 => 'bueno'"
   ]
  },
  {
   "cell_type": "code",
   "execution_count": 95,
   "id": "04ddd9ee",
   "metadata": {
    "ExecuteTime": {
     "end_time": "2022-09-10T15:07:30.346678Z",
     "start_time": "2022-09-10T15:07:30.309664Z"
    }
   },
   "outputs": [],
   "source": [
    "df['condition_type'] = df['condition'].apply(lambda x: 'bad' if x <= 2 else \n",
    "                                 'regular' if (x == 3)|(x==4) else \n",
    "                                 'good')"
   ]
  },
  {
   "cell_type": "markdown",
   "id": "ca35174d",
   "metadata": {},
   "source": [
    "# 18. Cambie el TIPO en la columna \"condición\" a CADENA"
   ]
  },
  {
   "cell_type": "code",
   "execution_count": 121,
   "id": "6c7677f6",
   "metadata": {
    "ExecuteTime": {
     "end_time": "2022-09-10T15:14:31.495193Z",
     "start_time": "2022-09-10T15:14:31.482191Z"
    }
   },
   "outputs": [],
   "source": [
    "df['condition'] = df['condition'].astype(str)"
   ]
  },
  {
   "cell_type": "code",
   "execution_count": 110,
   "id": "ff5c4ffc",
   "metadata": {
    "ExecuteTime": {
     "end_time": "2022-09-10T15:11:04.916470Z",
     "start_time": "2022-09-10T15:11:04.904460Z"
    }
   },
   "outputs": [
    {
     "data": {
      "text/plain": [
       "id                  int64\n",
       "date               object\n",
       "price             float64\n",
       "bedrooms            int64\n",
       "bathrooms         float64\n",
       "sqft_living         int64\n",
       "sqft_lot            int64\n",
       "floors            float64\n",
       "waterfront          int64\n",
       "view                int64\n",
       "condition          object\n",
       "grade               int64\n",
       "sqft_above          int64\n",
       "sqft_basement       int64\n",
       "yr_built            int64\n",
       "yr_renovated        int64\n",
       "zipcode             int64\n",
       "lat               float64\n",
       "long              float64\n",
       "sqft_living15       int64\n",
       "sqft_lot15          int64\n",
       "house_age          object\n",
       "dormitory_type     object\n",
       "condition_type     object\n",
       "dtype: object"
      ]
     },
     "execution_count": 110,
     "metadata": {},
     "output_type": "execute_result"
    }
   ],
   "source": [
    "df.dtypes"
   ]
  },
  {
   "cell_type": "markdown",
   "id": "3699283c",
   "metadata": {},
   "source": [
    "# 20. Elimine las columnas: \"sqft_living15\" y \"sqft_lot15\""
   ]
  },
  {
   "cell_type": "code",
   "execution_count": 131,
   "id": "cc02d617",
   "metadata": {
    "ExecuteTime": {
     "end_time": "2022-09-10T15:19:18.468283Z",
     "start_time": "2022-09-10T15:19:18.452273Z"
    }
   },
   "outputs": [
    {
     "data": {
      "text/plain": [
       "Index(['id', 'date', 'price', 'bedrooms', 'bathrooms', 'sqft_living',\n",
       "       'sqft_lot', 'floors', 'waterfront', 'view', 'condition', 'grade',\n",
       "       'sqft_above', 'sqft_basement', 'yr_built', 'yr_renovated', 'zipcode',\n",
       "       'lat', 'long', 'sqft_living15', 'sqft_lot15', 'house_age',\n",
       "       'dormitory_type', 'condition_type'],\n",
       "      dtype='object')"
      ]
     },
     "execution_count": 131,
     "metadata": {},
     "output_type": "execute_result"
    }
   ],
   "source": [
    "df.columns"
   ]
  },
  {
   "cell_type": "code",
   "execution_count": 132,
   "id": "1c84692f",
   "metadata": {
    "ExecuteTime": {
     "end_time": "2022-09-10T15:19:24.984212Z",
     "start_time": "2022-09-10T15:19:24.933211Z"
    }
   },
   "outputs": [],
   "source": [
    "df = df.drop(columns = ['sqft_living15', 'sqft_lot15'], index = 1)"
   ]
  },
  {
   "cell_type": "code",
   "execution_count": 133,
   "id": "e368722a",
   "metadata": {
    "ExecuteTime": {
     "end_time": "2022-09-10T15:19:29.698476Z",
     "start_time": "2022-09-10T15:19:29.689477Z"
    }
   },
   "outputs": [
    {
     "data": {
      "text/plain": [
       "Index(['id', 'date', 'price', 'bedrooms', 'bathrooms', 'sqft_living',\n",
       "       'sqft_lot', 'floors', 'waterfront', 'view', 'condition', 'grade',\n",
       "       'sqft_above', 'sqft_basement', 'yr_built', 'yr_renovated', 'zipcode',\n",
       "       'lat', 'long', 'house_age', 'dormitory_type', 'condition_type'],\n",
       "      dtype='object')"
      ]
     },
     "execution_count": 133,
     "metadata": {},
     "output_type": "execute_result"
    }
   ],
   "source": [
    "df.columns"
   ]
  },
  {
   "cell_type": "markdown",
   "id": "b38d0298",
   "metadata": {
    "ExecuteTime": {
     "end_time": "2022-09-10T15:20:38.778068Z",
     "start_time": "2022-09-10T15:20:38.767066Z"
    }
   },
   "source": [
    "# 21. Cambie el TIPO en la columna \"year\" a FECHA\n"
   ]
  },
  {
   "cell_type": "code",
   "execution_count": 136,
   "id": "4d44c98d",
   "metadata": {
    "ExecuteTime": {
     "end_time": "2022-09-10T15:21:45.931829Z",
     "start_time": "2022-09-10T15:21:45.880831Z"
    }
   },
   "outputs": [],
   "source": [
    "df['date'] = pd.to_datetime(df['date'], format = '%Y-%m-%d')"
   ]
  },
  {
   "cell_type": "code",
   "execution_count": 139,
   "id": "1d59bc7a",
   "metadata": {
    "ExecuteTime": {
     "end_time": "2022-09-10T15:22:04.619047Z",
     "start_time": "2022-09-10T15:22:04.603054Z"
    },
    "scrolled": true
   },
   "outputs": [
    {
     "data": {
      "text/plain": [
       "id                         int64\n",
       "date              datetime64[ns]\n",
       "price                    float64\n",
       "bedrooms                   int64\n",
       "bathrooms                float64\n",
       "sqft_living                int64\n",
       "sqft_lot                   int64\n",
       "floors                   float64\n",
       "waterfront                 int64\n",
       "view                       int64\n",
       "condition                 object\n",
       "grade                      int64\n",
       "sqft_above                 int64\n",
       "sqft_basement              int64\n",
       "yr_built                   int64\n",
       "yr_renovated               int64\n",
       "zipcode                    int64\n",
       "lat                      float64\n",
       "long                     float64\n",
       "house_age                 object\n",
       "dormitory_type            object\n",
       "condition_type            object\n",
       "dtype: object"
      ]
     },
     "execution_count": 139,
     "metadata": {},
     "output_type": "execute_result"
    }
   ],
   "source": [
    "df.dtypes"
   ]
  },
  {
   "cell_type": "markdown",
   "id": "8ce24871",
   "metadata": {
    "ExecuteTime": {
     "end_time": "2022-09-10T15:20:59.343182Z",
     "start_time": "2022-09-10T15:20:59.337185Z"
    }
   },
   "source": [
    "# 22. Cambie el TIPO en la columna \"yr_renovated\" a FECHA"
   ]
  },
  {
   "cell_type": "code",
   "execution_count": 160,
   "id": "ef05dcc7",
   "metadata": {
    "ExecuteTime": {
     "end_time": "2022-09-10T15:31:05.571440Z",
     "start_time": "2022-09-10T15:31:05.536467Z"
    },
    "scrolled": true
   },
   "outputs": [
    {
     "data": {
      "text/plain": [
       "0        NaN\n",
       "2        NaN\n",
       "3        NaN\n",
       "4        NaN\n",
       "5        NaN\n",
       "        ... \n",
       "21608    NaN\n",
       "21609    NaN\n",
       "21610    NaN\n",
       "21611    NaN\n",
       "21612    NaN\n",
       "Name: yr_renovated2, Length: 21612, dtype: object"
      ]
     },
     "execution_count": 160,
     "metadata": {},
     "output_type": "execute_result"
    }
   ],
   "source": [
    "df['yr_renovated2'] = np.nan\n",
    "df.loc[df['yr_renovated']!=0, 'yr_renovated2'] = pd.to_datetime(df.loc[df['yr_renovated']!=0, 'yr_renovated'], format = '%Y')\n",
    "df['yr_renovated2']"
   ]
  },
  {
   "cell_type": "markdown",
   "id": "752a7571",
   "metadata": {
    "ExecuteTime": {
     "end_time": "2022-09-10T15:33:56.864930Z",
     "start_time": "2022-09-10T15:33:56.851929Z"
    }
   },
   "source": [
    "# 23. ¿Cuál es la fecha más temprana de construcción de una propiedad?"
   ]
  },
  {
   "cell_type": "code",
   "execution_count": 165,
   "id": "915a12b0",
   "metadata": {
    "ExecuteTime": {
     "end_time": "2022-09-10T15:34:33.769993Z",
     "start_time": "2022-09-10T15:34:33.748981Z"
    }
   },
   "outputs": [],
   "source": [
    "df['yr_built'] = pd.to_datetime(df['yr_built'], format = '%Y')"
   ]
  },
  {
   "cell_type": "code",
   "execution_count": 170,
   "id": "8ac6b724",
   "metadata": {
    "ExecuteTime": {
     "end_time": "2022-09-10T15:35:20.633075Z",
     "start_time": "2022-09-10T15:35:20.612071Z"
    }
   },
   "outputs": [
    {
     "data": {
      "text/plain": [
       "Timestamp('1900-01-01 00:00:00')"
      ]
     },
     "execution_count": 170,
     "metadata": {},
     "output_type": "execute_result"
    }
   ],
   "source": [
    "df['yr_built'].min()"
   ]
  },
  {
   "cell_type": "markdown",
   "id": "44f9da66",
   "metadata": {},
   "source": [
    "# 24. ¿Cuál es la fecha de renovación más temprana para una propiedad?"
   ]
  },
  {
   "cell_type": "code",
   "execution_count": 177,
   "id": "6a09506e",
   "metadata": {
    "ExecuteTime": {
     "end_time": "2022-09-10T15:37:35.653803Z",
     "start_time": "2022-09-10T15:37:35.640805Z"
    }
   },
   "outputs": [
    {
     "data": {
      "text/plain": [
       "Timestamp('1934-01-01 00:00:00')"
      ]
     },
     "execution_count": 177,
     "metadata": {},
     "output_type": "execute_result"
    }
   ],
   "source": [
    "df.loc[pd.notnull(df['yr_renovated2']), 'yr_renovated2'].min()"
   ]
  },
  {
   "cell_type": "markdown",
   "id": "bc7b03a5",
   "metadata": {},
   "source": [
    "# 25. ¿Cuántas propiedades tienen 2 pisos?"
   ]
  },
  {
   "cell_type": "code",
   "execution_count": 189,
   "id": "0c12bfd2",
   "metadata": {
    "ExecuteTime": {
     "end_time": "2022-09-10T15:40:41.905416Z",
     "start_time": "2022-09-10T15:40:41.888416Z"
    }
   },
   "outputs": [
    {
     "name": "stdout",
     "output_type": "stream",
     "text": [
      "Hay 782 propiedades de dos pisos\n"
     ]
    }
   ],
   "source": [
    "x = df[df['floors']>2].shape[0]\n",
    "print(f'Hay {x} propiedades de dos pisos')"
   ]
  },
  {
   "cell_type": "markdown",
   "id": "1fd88bff",
   "metadata": {},
   "source": [
    "# 26. ¿Cuántas propiedades se encuentran en condición igual a “regular”?"
   ]
  },
  {
   "cell_type": "code",
   "execution_count": 200,
   "id": "b6d38aa3",
   "metadata": {
    "ExecuteTime": {
     "end_time": "2022-09-10T15:42:23.378429Z",
     "start_time": "2022-09-10T15:42:23.356426Z"
    }
   },
   "outputs": [
    {
     "name": "stdout",
     "output_type": "stream",
     "text": [
      "Hay 19709 propiedades en condición regular\n"
     ]
    }
   ],
   "source": [
    "x = df[df['condition_type'] == 'regular'].shape[0]\n",
    "print(f'Hay {x} propiedades en condición regular')"
   ]
  },
  {
   "cell_type": "markdown",
   "id": "92838e58",
   "metadata": {},
   "source": [
    "# 27. ¿Cuántas propiedades están en una condición igual a “mala” y tienen “vistas al agua”?"
   ]
  },
  {
   "cell_type": "code",
   "execution_count": 216,
   "id": "93a1e33e",
   "metadata": {
    "ExecuteTime": {
     "end_time": "2022-09-10T15:47:39.028413Z",
     "start_time": "2022-09-10T15:47:39.016411Z"
    }
   },
   "outputs": [
    {
     "name": "stdout",
     "output_type": "stream",
     "text": [
      "Hay 2 propiedades en mala condición con vista al agua\n"
     ]
    }
   ],
   "source": [
    "x = df[(df['waterfront'] == 1)&(df['condition_type']=='bad')].shape[0]\n",
    "print(f'Hay {x} propiedades en mala condición con vista al agua')"
   ]
  },
  {
   "cell_type": "markdown",
   "id": "9da4f16b",
   "metadata": {},
   "source": [
    "# 28. ¿Cuántas propiedades tienen una condición igual a “buena” y son “nueva_casa”?"
   ]
  },
  {
   "cell_type": "code",
   "execution_count": 223,
   "id": "6d8c88cf",
   "metadata": {
    "ExecuteTime": {
     "end_time": "2022-09-10T15:50:15.455036Z",
     "start_time": "2022-09-10T15:50:15.432036Z"
    }
   },
   "outputs": [
    {
     "name": "stdout",
     "output_type": "stream",
     "text": [
      "Hay 9 propiedades en buena condición con y son casas nuevas\n"
     ]
    }
   ],
   "source": [
    "x = df[(df['condition_type'] =='good') & (df['house_age'] == 'new_house')].shape[0]\n",
    "print(f'Hay {x} propiedades en buena condición con y son casas nuevas')"
   ]
  },
  {
   "cell_type": "markdown",
   "id": "c4394062",
   "metadata": {},
   "source": [
    "# 29. ¿Cuántas propiedades de “apartamentos” se renovaron en 2015?"
   ]
  },
  {
   "cell_type": "code",
   "execution_count": 251,
   "id": "c627a468",
   "metadata": {
    "ExecuteTime": {
     "end_time": "2022-09-10T15:56:12.653911Z",
     "start_time": "2022-09-10T15:56:12.633916Z"
    }
   },
   "outputs": [
    {
     "name": "stdout",
     "output_type": "stream",
     "text": [
      "Hay 0 apartamentos que se renovaron en 2015\n"
     ]
    }
   ],
   "source": [
    "x = df[(df['dormitory_type']== 'apartment')&(df['yr_renovated']== 2015)].shape[0]\n",
    "print(f'Hay {x} apartamentos que se renovaron en 2015')"
   ]
  },
  {
   "cell_type": "markdown",
   "id": "2e1061e4",
   "metadata": {},
   "source": [
    "# 30. ¿Cuántas propiedades de “casa_nueva” se renovaron en 2014?"
   ]
  },
  {
   "cell_type": "code",
   "execution_count": 256,
   "id": "9eb3b0e1",
   "metadata": {
    "ExecuteTime": {
     "end_time": "2022-09-10T15:57:06.077766Z",
     "start_time": "2022-09-10T15:57:06.055777Z"
    }
   },
   "outputs": [
    {
     "name": "stdout",
     "output_type": "stream",
     "text": [
      "Hay 87 casas que se renovaron en 2014\n"
     ]
    }
   ],
   "source": [
    "x = df[(df['dormitory_type']== 'house')&(df['yr_renovated']== 2014)].shape[0]\n",
    "print(f'Hay {x} casas que se renovaron en 2014')"
   ]
  }
 ],
 "metadata": {
  "kernelspec": {
   "display_name": "Python 3 (ipykernel)",
   "language": "python",
   "name": "python3"
  },
  "language_info": {
   "codemirror_mode": {
    "name": "ipython",
    "version": 3
   },
   "file_extension": ".py",
   "mimetype": "text/x-python",
   "name": "python",
   "nbconvert_exporter": "python",
   "pygments_lexer": "ipython3",
   "version": "3.9.7"
  },
  "toc": {
   "base_numbering": 1,
   "nav_menu": {},
   "number_sections": false,
   "sideBar": true,
   "skip_h1_title": false,
   "title_cell": "Table of Contents",
   "title_sidebar": "Contents",
   "toc_cell": false,
   "toc_position": {},
   "toc_section_display": true,
   "toc_window_display": true
  },
  "varInspector": {
   "cols": {
    "lenName": 16,
    "lenType": 16,
    "lenVar": 40
   },
   "kernels_config": {
    "python": {
     "delete_cmd_postfix": "",
     "delete_cmd_prefix": "del ",
     "library": "var_list.py",
     "varRefreshCmd": "print(var_dic_list())"
    },
    "r": {
     "delete_cmd_postfix": ") ",
     "delete_cmd_prefix": "rm(",
     "library": "var_list.r",
     "varRefreshCmd": "cat(var_dic_list()) "
    }
   },
   "types_to_exclude": [
    "module",
    "function",
    "builtin_function_or_method",
    "instance",
    "_Feature"
   ],
   "window_display": false
  }
 },
 "nbformat": 4,
 "nbformat_minor": 5
}
