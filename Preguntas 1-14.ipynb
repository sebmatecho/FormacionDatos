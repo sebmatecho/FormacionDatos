{
 "cells": [
  {
   "cell_type": "markdown",
   "id": "b5b6e3a1",
   "metadata": {},
   "source": [
    "# Proyecto de datos\n",
    "\n",
    "En esta formatión es de nuestro interés garantizar una primera experienca práctica con Python\n",
    "\n",
    "## Contexto \n",
    "\n",
    "Hay un grupo de emprendedores que van a proponer una nueva firma inmobiliaria en Seattle, WA (USA). Como parte de su estudio de mercado, se hace necesario conocer ciertas dinámicas del mercado inmobiliario local. Para tal propósito, reunen información de un año de dinámica inmobiliaria en tal región (Mayo del 2014 a mayo del 2015). \n",
    "Tal grupo de emprendedores entra en contacto con nosotros para poder responder algunas preguntas que podrían dinamizar su toma de decisiones respecto al valor de marca. \n",
    "\n",
    "## Datos. \n",
    "Los datos están disponibles [aquí](https://www.kaggle.com/datasets/harlfoxem/housesalesprediction)\n",
    "\n",
    "## Preguntas\n",
    "\n",
    "1. ¿Cuántas casas hay disponibles para comprar?\n",
    "2. ¿Cuántos atributos tienen las casas?\n",
    "3. ¿Cuáles son los atributos de las casas?\n",
    "4. ¿Cuál es la casa más cara (casa con mayor valor de venta)?\n",
    "5. ¿Qué casa tiene más cuartos?\n",
    "6. ¿Cuántas casas tienen 2 baños?\n",
    "7. ¿Cuál es el precio promedio de todas las casas en el conjunto de datos?\n",
    "8. ¿Cuál es el precio medio de las viviendas de 2 baños?\n",
    "9. ¿Cuál es el precio mínimo para viviendas de 3 dormitorios?\n",
    "10. ¿Cuántas casas tienen más de 300 metros cuadrados en la sala?\n",
    "11. ¿Cuántas casas tienen más de 2 plantas?\n",
    "12. ¿Cuántas casas tienen vista al mar?\n",
    "13. De las casas con vistas al mar, ¿cuántas tienen 3 habitaciones?\n",
    "14. De las casas con más de 300 metros cuadrados de salón, ¿cuántas tienen más de 2 baños?"
   ]
  },
  {
   "cell_type": "markdown",
   "id": "1fa3ac08",
   "metadata": {
    "ExecuteTime": {
     "end_time": "2022-08-18T00:25:44.411844Z",
     "start_time": "2022-08-18T00:25:44.380839Z"
    }
   },
   "source": [
    "## Definición de variables\n",
    "\n",
    "- id - Identificación única para cada casa vendida\n",
    "- date - Fecha de la venta de la casa\n",
    "- price - Precio de cada vivienda vendida\n",
    "- bedrooms - Número de dormitorios\n",
    "- bathrooms - Número de baños, donde .5 representa una habitación con inodoro pero sin ducha\n",
    "- sqft_living- Pies cuadrados del espacio habitable interior de los apartamentos\n",
    "- sqft_lot - Pies cuadrados del espacio del terreno\n",
    "- floors - Número de plantas\n",
    "- waterfront - una variable ficticia para determinar si el apartamento tenía vistas al paseo marítimo o no.\n",
    "- view - Un índice de 0 a 4 de qué tan buena fue la vista de la propiedad\n",
    "- condition- Un índice del 1 al 5 sobre el estado del apartamento,\n",
    "- grade- un índice de 1 a 13, donde 1-3 no alcanza la construcción y el diseño de edificios, 7 tiene un nivel medio de construcción y diseño, y 11-13 tiene un nivel de construcción y diseño de alta calidad.\n",
    "- sqft_above - los pies cuadrados del espacio interior de la vivienda que está por encima del nivel del suelo\n",
    "- sqft_basement - los pies cuadrados del espacio interior de la vivienda que está por debajo del nivel del suelo el año en que se construyó inicialmente la casa\n",
    "- yr_build - El año de la construcción\n",
    "- yr_renovated - El año de la última renovación de la casa\n",
    "- zipcode - En qué área de código postal se encuentra la casa\n",
    "- lat- latitud\n",
    "- long- Longitud\n",
    "- sqft_living15 - Los pies cuadrados de espacio habitable de vivienda interior para los 15 vecinos más cercanos\n",
    "- sqft_lot15 - Los pies cuadrados de los lotes de terreno de los 15 vecinos más cercanos\n",
    "\n",
    "\n",
    "\n"
   ]
  },
  {
   "cell_type": "markdown",
   "id": "20a24bc8",
   "metadata": {},
   "source": [
    "## Preparación"
   ]
  },
  {
   "cell_type": "code",
   "execution_count": 1,
   "id": "a25135aa",
   "metadata": {
    "ExecuteTime": {
     "end_time": "2022-08-18T00:20:28.583756Z",
     "start_time": "2022-08-18T00:20:24.404871Z"
    }
   },
   "outputs": [],
   "source": [
    "import pandas as pd "
   ]
  },
  {
   "cell_type": "code",
   "execution_count": 15,
   "id": "1ea37362",
   "metadata": {
    "ExecuteTime": {
     "end_time": "2022-08-18T00:39:31.144816Z",
     "start_time": "2022-08-18T00:39:31.006805Z"
    }
   },
   "outputs": [],
   "source": [
    "df = pd.read_csv('./data/kc_house_data.csv')"
   ]
  },
  {
   "cell_type": "code",
   "execution_count": 16,
   "id": "edfb5e55",
   "metadata": {
    "ExecuteTime": {
     "end_time": "2022-08-18T00:39:32.049170Z",
     "start_time": "2022-08-18T00:39:32.014170Z"
    }
   },
   "outputs": [
    {
     "name": "stdout",
     "output_type": "stream",
     "text": [
      "<class 'pandas.core.frame.DataFrame'>\n",
      "RangeIndex: 21613 entries, 0 to 21612\n",
      "Data columns (total 21 columns):\n",
      " #   Column         Non-Null Count  Dtype  \n",
      "---  ------         --------------  -----  \n",
      " 0   id             21613 non-null  int64  \n",
      " 1   date           21613 non-null  object \n",
      " 2   price          21613 non-null  float64\n",
      " 3   bedrooms       21613 non-null  int64  \n",
      " 4   bathrooms      21613 non-null  float64\n",
      " 5   sqft_living    21613 non-null  int64  \n",
      " 6   sqft_lot       21613 non-null  int64  \n",
      " 7   floors         21613 non-null  float64\n",
      " 8   waterfront     21613 non-null  int64  \n",
      " 9   view           21613 non-null  int64  \n",
      " 10  condition      21613 non-null  int64  \n",
      " 11  grade          21613 non-null  int64  \n",
      " 12  sqft_above     21613 non-null  int64  \n",
      " 13  sqft_basement  21613 non-null  int64  \n",
      " 14  yr_built       21613 non-null  int64  \n",
      " 15  yr_renovated   21613 non-null  int64  \n",
      " 16  zipcode        21613 non-null  int64  \n",
      " 17  lat            21613 non-null  float64\n",
      " 18  long           21613 non-null  float64\n",
      " 19  sqft_living15  21613 non-null  int64  \n",
      " 20  sqft_lot15     21613 non-null  int64  \n",
      "dtypes: float64(5), int64(15), object(1)\n",
      "memory usage: 3.5+ MB\n"
     ]
    }
   ],
   "source": [
    "df.info()"
   ]
  },
  {
   "cell_type": "markdown",
   "id": "68fd8031",
   "metadata": {},
   "source": [
    "# 1. ¿Cuántas casas hay disponibles para comprar?\n"
   ]
  },
  {
   "cell_type": "code",
   "execution_count": 24,
   "id": "09e5e290",
   "metadata": {
    "ExecuteTime": {
     "end_time": "2022-08-18T00:46:09.099938Z",
     "start_time": "2022-08-18T00:46:09.091936Z"
    }
   },
   "outputs": [
    {
     "name": "stdout",
     "output_type": "stream",
     "text": [
      "Hay 21613 de casas disponibles para la compra\n"
     ]
    }
   ],
   "source": [
    "print(f'Hay {df.shape[0]} de casas disponibles para la compra')"
   ]
  },
  {
   "cell_type": "markdown",
   "id": "a0b66b36",
   "metadata": {},
   "source": [
    "# 2. ¿Cuántos atributos tienen las propiedades?"
   ]
  },
  {
   "cell_type": "code",
   "execution_count": 28,
   "id": "c101fa5b",
   "metadata": {
    "ExecuteTime": {
     "end_time": "2022-08-18T00:48:05.400051Z",
     "start_time": "2022-08-18T00:48:05.382057Z"
    }
   },
   "outputs": [
    {
     "name": "stdout",
     "output_type": "stream",
     "text": [
      "Hay 21 atributos de las casas disponibles para la compra\n"
     ]
    }
   ],
   "source": [
    "print(f'Hay {df.shape[1]} atributos de las casas disponibles para la compra')"
   ]
  },
  {
   "cell_type": "markdown",
   "id": "c22ade89",
   "metadata": {},
   "source": [
    "# 3. ¿Cuáles son los atributos de las casas?"
   ]
  },
  {
   "cell_type": "code",
   "execution_count": 66,
   "id": "36584c22",
   "metadata": {
    "ExecuteTime": {
     "end_time": "2022-08-18T00:55:51.584447Z",
     "start_time": "2022-08-18T00:55:51.571445Z"
    }
   },
   "outputs": [
    {
     "name": "stdout",
     "output_type": "stream",
     "text": [
      "Los atributos son: id, date, price, bedrooms, bathrooms, sqft_living, sqft_lot, floors, waterfront, view, condition, grade, sqft_above, sqft_basement, yr_built, yr_renovated, zipcode, lat, long, sqft_living15, sqft_lot15\n"
     ]
    }
   ],
   "source": [
    "atributos1 = list(df.columns)\n",
    "atributos2 = ', '.join(atributos1)\n",
    "print(f'Los atributos son: {atributos2}')"
   ]
  },
  {
   "cell_type": "markdown",
   "id": "40a37630",
   "metadata": {},
   "source": [
    "# 4. ¿Cuál es la casa más cara (casa con mayor valor de venta)?"
   ]
  },
  {
   "cell_type": "code",
   "execution_count": 98,
   "id": "b77e1c91",
   "metadata": {
    "ExecuteTime": {
     "end_time": "2022-08-18T01:08:44.759002Z",
     "start_time": "2022-08-18T01:08:44.748003Z"
    }
   },
   "outputs": [],
   "source": [
    "indice = df[df['price'] == df['price'].max()].index[0]"
   ]
  },
  {
   "cell_type": "code",
   "execution_count": 99,
   "id": "d226d9b1",
   "metadata": {
    "ExecuteTime": {
     "end_time": "2022-08-18T01:08:45.369554Z",
     "start_time": "2022-08-18T01:08:45.351538Z"
    }
   },
   "outputs": [
    {
     "name": "stdout",
     "output_type": "stream",
     "text": [
      "La propiedad en la línea 7252 es la más costosa\n"
     ]
    }
   ],
   "source": [
    "print(f'La propiedad en la línea {indice} es la más costosa')"
   ]
  },
  {
   "cell_type": "code",
   "execution_count": 105,
   "id": "8cd57d41",
   "metadata": {
    "ExecuteTime": {
     "end_time": "2022-08-18T01:10:17.193640Z",
     "start_time": "2022-08-18T01:10:17.174645Z"
    }
   },
   "outputs": [
    {
     "data": {
      "text/plain": [
       "id                    6762700020\n",
       "date             20141013T000000\n",
       "price                  7700000.0\n",
       "bedrooms                       6\n",
       "bathrooms                    8.0\n",
       "sqft_living                12050\n",
       "sqft_lot                   27600\n",
       "floors                       2.5\n",
       "waterfront                     0\n",
       "view                           3\n",
       "condition                      4\n",
       "grade                         13\n",
       "sqft_above                  8570\n",
       "sqft_basement               3480\n",
       "yr_built                    1910\n",
       "yr_renovated                1987\n",
       "zipcode                    98102\n",
       "lat                      47.6298\n",
       "long                    -122.323\n",
       "sqft_living15               3940\n",
       "sqft_lot15                  8800\n",
       "Name: 7252, dtype: object"
      ]
     },
     "execution_count": 105,
     "metadata": {},
     "output_type": "execute_result"
    }
   ],
   "source": [
    "df.loc[indice,:]"
   ]
  },
  {
   "cell_type": "markdown",
   "id": "9e7e77c9",
   "metadata": {},
   "source": [
    "# 5. ¿Qué casa tiene más cuartos?"
   ]
  },
  {
   "cell_type": "code",
   "execution_count": 127,
   "id": "a16d74cf",
   "metadata": {
    "ExecuteTime": {
     "end_time": "2022-08-18T01:20:55.883469Z",
     "start_time": "2022-08-18T01:20:55.843469Z"
    }
   },
   "outputs": [
    {
     "data": {
      "text/html": [
       "<div>\n",
       "<style scoped>\n",
       "    .dataframe tbody tr th:only-of-type {\n",
       "        vertical-align: middle;\n",
       "    }\n",
       "\n",
       "    .dataframe tbody tr th {\n",
       "        vertical-align: top;\n",
       "    }\n",
       "\n",
       "    .dataframe thead th {\n",
       "        text-align: right;\n",
       "    }\n",
       "</style>\n",
       "<table border=\"1\" class=\"dataframe\">\n",
       "  <thead>\n",
       "    <tr style=\"text-align: right;\">\n",
       "      <th></th>\n",
       "      <th>id</th>\n",
       "      <th>date</th>\n",
       "      <th>price</th>\n",
       "      <th>bedrooms</th>\n",
       "      <th>bathrooms</th>\n",
       "      <th>sqft_living</th>\n",
       "      <th>sqft_lot</th>\n",
       "      <th>floors</th>\n",
       "      <th>waterfront</th>\n",
       "      <th>view</th>\n",
       "      <th>...</th>\n",
       "      <th>grade</th>\n",
       "      <th>sqft_above</th>\n",
       "      <th>sqft_basement</th>\n",
       "      <th>yr_built</th>\n",
       "      <th>yr_renovated</th>\n",
       "      <th>zipcode</th>\n",
       "      <th>lat</th>\n",
       "      <th>long</th>\n",
       "      <th>sqft_living15</th>\n",
       "      <th>sqft_lot15</th>\n",
       "    </tr>\n",
       "  </thead>\n",
       "  <tbody>\n",
       "    <tr>\n",
       "      <th>15870</th>\n",
       "      <td>2402100895</td>\n",
       "      <td>20140625T000000</td>\n",
       "      <td>640000.0</td>\n",
       "      <td>33</td>\n",
       "      <td>1.75</td>\n",
       "      <td>1620</td>\n",
       "      <td>6000</td>\n",
       "      <td>1.0</td>\n",
       "      <td>0</td>\n",
       "      <td>0</td>\n",
       "      <td>...</td>\n",
       "      <td>7</td>\n",
       "      <td>1040</td>\n",
       "      <td>580</td>\n",
       "      <td>1947</td>\n",
       "      <td>0</td>\n",
       "      <td>98103</td>\n",
       "      <td>47.6878</td>\n",
       "      <td>-122.331</td>\n",
       "      <td>1330</td>\n",
       "      <td>4700</td>\n",
       "    </tr>\n",
       "  </tbody>\n",
       "</table>\n",
       "<p>1 rows × 21 columns</p>\n",
       "</div>"
      ],
      "text/plain": [
       "               id             date     price  bedrooms  bathrooms  \\\n",
       "15870  2402100895  20140625T000000  640000.0        33       1.75   \n",
       "\n",
       "       sqft_living  sqft_lot  floors  waterfront  view  ...  grade  \\\n",
       "15870         1620      6000     1.0           0     0  ...      7   \n",
       "\n",
       "       sqft_above  sqft_basement  yr_built  yr_renovated  zipcode      lat  \\\n",
       "15870        1040            580      1947             0    98103  47.6878   \n",
       "\n",
       "          long  sqft_living15  sqft_lot15  \n",
       "15870 -122.331           1330        4700  \n",
       "\n",
       "[1 rows x 21 columns]"
      ]
     },
     "execution_count": 127,
     "metadata": {},
     "output_type": "execute_result"
    }
   ],
   "source": [
    "df[df['bedrooms'] == df['bedrooms'].max()]"
   ]
  },
  {
   "cell_type": "code",
   "execution_count": 116,
   "id": "e1d0e469",
   "metadata": {
    "ExecuteTime": {
     "end_time": "2022-08-18T01:15:30.521069Z",
     "start_time": "2022-08-18T01:15:30.495069Z"
    }
   },
   "outputs": [
    {
     "data": {
      "text/plain": [
       "{0, 1, 2, 3, 4, 5, 6, 7, 8, 9, 10, 11, 33}"
      ]
     },
     "execution_count": 116,
     "metadata": {},
     "output_type": "execute_result"
    }
   ],
   "source": [
    "set(df['bedrooms'])"
   ]
  },
  {
   "cell_type": "markdown",
   "id": "e0fce7f9",
   "metadata": {},
   "source": [
    "# 6. ¿Cuántas casas tienen 2 baños?"
   ]
  },
  {
   "cell_type": "code",
   "execution_count": 134,
   "id": "3993d304",
   "metadata": {
    "ExecuteTime": {
     "end_time": "2022-08-18T01:23:18.260558Z",
     "start_time": "2022-08-18T01:23:18.238556Z"
    }
   },
   "outputs": [
    {
     "name": "stdout",
     "output_type": "stream",
     "text": [
      "Hay en total, 1930 de propiedades con dos baños\n"
     ]
    }
   ],
   "source": [
    "banhos = df[df['bathrooms'] == 2].shape[0]\n",
    "print(f'Hay en total, {banhos} de propiedades con dos baños')"
   ]
  },
  {
   "cell_type": "markdown",
   "id": "22d35478",
   "metadata": {},
   "source": [
    "# 7. ¿Cuál es el precio promedio de todas las casas en el conjunto de datos?"
   ]
  },
  {
   "cell_type": "code",
   "execution_count": 149,
   "id": "9fc7fabf",
   "metadata": {
    "ExecuteTime": {
     "end_time": "2022-08-18T01:27:31.908711Z",
     "start_time": "2022-08-18T01:27:31.897710Z"
    }
   },
   "outputs": [
    {
     "name": "stdout",
     "output_type": "stream",
     "text": [
      "El precio promedio de todas las propiedades es de 540088\n"
     ]
    }
   ],
   "source": [
    "media = int(df['price'].mean())\n",
    "print(f'El precio promedio de todas las propiedades es de {media}')"
   ]
  },
  {
   "cell_type": "markdown",
   "id": "c201e67d",
   "metadata": {},
   "source": [
    "# 8. ¿Cuál es el precio medio de las viviendas de 2 baños?"
   ]
  },
  {
   "cell_type": "code",
   "execution_count": 157,
   "id": "1bea25c2",
   "metadata": {
    "ExecuteTime": {
     "end_time": "2022-08-18T01:32:58.686317Z",
     "start_time": "2022-08-18T01:32:58.667320Z"
    }
   },
   "outputs": [
    {
     "name": "stdout",
     "output_type": "stream",
     "text": [
      "El precio promedio de las propiedades con dos baños es de 457889\n"
     ]
    }
   ],
   "source": [
    "prom_dos_banhos = int(df.loc[df['bathrooms'] == 2,'price'].mean())\n",
    "print(f'El precio promedio de las propiedades con dos baños es de {prom_dos_banhos}')"
   ]
  },
  {
   "cell_type": "markdown",
   "id": "048f6bc8",
   "metadata": {},
   "source": [
    "# 9. ¿Cuál es el precio mínimo para viviendas de 3 dormitorios?"
   ]
  },
  {
   "cell_type": "code",
   "execution_count": 164,
   "id": "bda793bb",
   "metadata": {
    "ExecuteTime": {
     "end_time": "2022-08-18T01:35:53.539963Z",
     "start_time": "2022-08-18T01:35:53.523960Z"
    }
   },
   "outputs": [
    {
     "name": "stdout",
     "output_type": "stream",
     "text": [
      "El precio mínimo de propiedades de tres habitaciones es 82000\n"
     ]
    }
   ],
   "source": [
    "min_tres_banhos = int(df.loc[df['bedrooms'] == 3, 'price'].min())\n",
    "print(f'El precio mínimo de propiedades de tres habitaciones es {min_tres_banhos}')"
   ]
  },
  {
   "cell_type": "markdown",
   "id": "3348f0a9",
   "metadata": {},
   "source": [
    "# 10. ¿Cuántas casas tienen más de 300 metros cuadrados en la sala?"
   ]
  },
  {
   "cell_type": "code",
   "execution_count": 184,
   "id": "4272b93c",
   "metadata": {
    "ExecuteTime": {
     "end_time": "2022-08-18T01:40:57.590064Z",
     "start_time": "2022-08-18T01:40:57.570079Z"
    }
   },
   "outputs": [
    {
     "name": "stdout",
     "output_type": "stream",
     "text": [
      "Hay 2258 propiedades con 300 metros, o más, de área\n"
     ]
    }
   ],
   "source": [
    "mts300 = df[df['sqft_living']>= 3230].shape[0]\n",
    "print(f'Hay {mts300} propiedades con 300 metros, o más, de área')"
   ]
  },
  {
   "cell_type": "markdown",
   "id": "f0e1cc63",
   "metadata": {},
   "source": [
    "# 11. ¿Cuántas casas tienen más de 2 plantas?"
   ]
  },
  {
   "cell_type": "code",
   "execution_count": 190,
   "id": "76af58b8",
   "metadata": {
    "ExecuteTime": {
     "end_time": "2022-08-18T01:43:04.014233Z",
     "start_time": "2022-08-18T01:43:03.994235Z"
    }
   },
   "outputs": [
    {
     "name": "stdout",
     "output_type": "stream",
     "text": [
      "Hay 9023 propiedades con dos o más plantas\n"
     ]
    }
   ],
   "source": [
    "dos_plantas = df[df['floors']>=2].shape[0]\n",
    "print(f'Hay {dos_plantas} propiedades con dos o más plantas')"
   ]
  },
  {
   "cell_type": "markdown",
   "id": "3903c1e7",
   "metadata": {},
   "source": [
    "# 12 . ¿Cuántas casas tienen vista al mar?"
   ]
  },
  {
   "cell_type": "code",
   "execution_count": 197,
   "id": "0fb58224",
   "metadata": {
    "ExecuteTime": {
     "end_time": "2022-08-18T01:45:03.267507Z",
     "start_time": "2022-08-18T01:45:03.245507Z"
    }
   },
   "outputs": [
    {
     "name": "stdout",
     "output_type": "stream",
     "text": [
      "Hay 163 propiedades con vista al mar\n"
     ]
    }
   ],
   "source": [
    "agua = df[df['waterfront'] == 1].shape[0]\n",
    "print(f'Hay {agua} propiedades con vista al mar')"
   ]
  },
  {
   "cell_type": "markdown",
   "id": "3a81d6e0",
   "metadata": {},
   "source": [
    "# 13. De las casas con vistas al mar, ¿cuántas tienen 3 habitaciones?"
   ]
  },
  {
   "cell_type": "code",
   "execution_count": null,
   "id": "415db81a",
   "metadata": {},
   "outputs": [],
   "source": [
    "tablas de verdad \n",
    "V y V -> V\n",
    "F y V -> F\n",
    "V y F -> F\n",
    "F y F -> F"
   ]
  },
  {
   "cell_type": "code",
   "execution_count": 202,
   "id": "8f03ff9d",
   "metadata": {
    "ExecuteTime": {
     "end_time": "2022-08-18T01:47:42.325817Z",
     "start_time": "2022-08-18T01:47:42.313810Z"
    }
   },
   "outputs": [
    {
     "data": {
      "text/plain": [
       "0        False\n",
       "1        False\n",
       "2        False\n",
       "3        False\n",
       "4        False\n",
       "         ...  \n",
       "21608    False\n",
       "21609    False\n",
       "21610    False\n",
       "21611    False\n",
       "21612    False\n",
       "Name: waterfront, Length: 21613, dtype: bool"
      ]
     },
     "execution_count": 202,
     "metadata": {},
     "output_type": "execute_result"
    }
   ],
   "source": []
  },
  {
   "cell_type": "code",
   "execution_count": 204,
   "id": "bd02e354",
   "metadata": {
    "ExecuteTime": {
     "end_time": "2022-08-18T01:47:58.550173Z",
     "start_time": "2022-08-18T01:47:58.503175Z"
    }
   },
   "outputs": [
    {
     "data": {
      "text/plain": [
       "0         True\n",
       "1         True\n",
       "2        False\n",
       "3        False\n",
       "4         True\n",
       "         ...  \n",
       "21608     True\n",
       "21609    False\n",
       "21610    False\n",
       "21611     True\n",
       "21612    False\n",
       "Name: bedrooms, Length: 21613, dtype: bool"
      ]
     },
     "execution_count": 204,
     "metadata": {},
     "output_type": "execute_result"
    }
   ],
   "source": []
  },
  {
   "cell_type": "code",
   "execution_count": 215,
   "id": "6ca5cdb4",
   "metadata": {
    "ExecuteTime": {
     "end_time": "2022-08-18T01:50:59.885310Z",
     "start_time": "2022-08-18T01:50:59.868349Z"
    }
   },
   "outputs": [
    {
     "name": "stdout",
     "output_type": "stream",
     "text": [
      "Hay 64 propiedades con vista al agua *Y* tres habitaciones\n"
     ]
    }
   ],
   "source": [
    "agua_tres = df[(df['waterfront'] == 1 )&(df['bedrooms'] == 3)].shape[0]\n",
    "print(f'Hay {agua_tres} propiedades con vista al agua *Y* tres habitaciones')"
   ]
  },
  {
   "cell_type": "markdown",
   "id": "5b7628c6",
   "metadata": {},
   "source": [
    "# 14. De las casas con más de 300 metros cuadrados de salón, ¿cuántas tienen más de 2 baños?"
   ]
  },
  {
   "cell_type": "code",
   "execution_count": 226,
   "id": "3ff2c0e7",
   "metadata": {
    "ExecuteTime": {
     "end_time": "2022-08-18T01:54:34.863091Z",
     "start_time": "2022-08-18T01:54:34.847094Z"
    }
   },
   "outputs": [
    {
     "name": "stdout",
     "output_type": "stream",
     "text": [
      "Hay 2165 propiedaes con más de 300 mts cuadrados *Y* más de dos baños\n"
     ]
    }
   ],
   "source": [
    "dos_banhos_300mts = df[(df['sqft_living']>3230) & (df['bathrooms'] >2)].shape[0]\n",
    "print(f'Hay {dos_banhos_300mts} propiedaes con más de 300 mts cuadrados *Y* más de dos baños')"
   ]
  },
  {
   "cell_type": "code",
   "execution_count": null,
   "id": "747d7876",
   "metadata": {},
   "outputs": [],
   "source": []
  }
 ],
 "metadata": {
  "kernelspec": {
   "display_name": "Python 3 (ipykernel)",
   "language": "python",
   "name": "python3"
  },
  "language_info": {
   "codemirror_mode": {
    "name": "ipython",
    "version": 3
   },
   "file_extension": ".py",
   "mimetype": "text/x-python",
   "name": "python",
   "nbconvert_exporter": "python",
   "pygments_lexer": "ipython3",
   "version": "3.9.7"
  },
  "toc": {
   "base_numbering": 1,
   "nav_menu": {},
   "number_sections": false,
   "sideBar": true,
   "skip_h1_title": false,
   "title_cell": "Table of Contents",
   "title_sidebar": "Contents",
   "toc_cell": false,
   "toc_position": {},
   "toc_section_display": true,
   "toc_window_display": true
  },
  "varInspector": {
   "cols": {
    "lenName": 16,
    "lenType": 16,
    "lenVar": 40
   },
   "kernels_config": {
    "python": {
     "delete_cmd_postfix": "",
     "delete_cmd_prefix": "del ",
     "library": "var_list.py",
     "varRefreshCmd": "print(var_dic_list())"
    },
    "r": {
     "delete_cmd_postfix": ") ",
     "delete_cmd_prefix": "rm(",
     "library": "var_list.r",
     "varRefreshCmd": "cat(var_dic_list()) "
    }
   },
   "types_to_exclude": [
    "module",
    "function",
    "builtin_function_or_method",
    "instance",
    "_Feature"
   ],
   "window_display": false
  }
 },
 "nbformat": 4,
 "nbformat_minor": 5
}
