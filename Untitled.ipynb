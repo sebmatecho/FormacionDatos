{
 "cells": [
  {
   "cell_type": "markdown",
   "id": "de82fa09",
   "metadata": {},
   "source": [
    "# Título muy grande\n",
    "## Título grande\n",
    "### Título mediano\n",
    "#### Título pequeño \n",
    "##### Título más pequeño"
   ]
  },
  {
   "cell_type": "markdown",
   "id": "8d572fb1",
   "metadata": {},
   "source": [
    "Este es un texto de prueba y queremos ver cómo se ve una vez esté compilado. "
   ]
  },
  {
   "cell_type": "markdown",
   "id": "3a650f43",
   "metadata": {
    "ExecuteTime": {
     "end_time": "2022-07-28T01:35:18.050025Z",
     "start_time": "2022-07-28T01:35:18.032024Z"
    }
   },
   "source": [
    "Decimos que $X\\sim N(\\mu,\\sigma^2)$ si su función de densidad de probabilidad está dada por \n",
    "\n",
    "$$\n",
    "f_X(x)=\\frac{1}{\\sqrt{2\\pi\\sigma^2}}exp{\\frac{(x-\\mu)^2}{\\sigma^2}}\n",
    "$$"
   ]
  },
  {
   "cell_type": "markdown",
   "id": "d60ef86f",
   "metadata": {},
   "source": [
    "| Syntax | Description |\n",
    "| ----------- | ----------- |\n",
    "| Header | Title |\n",
    "| Paragraph | Text |"
   ]
  },
  {
   "cell_type": "code",
   "execution_count": 3,
   "id": "f11ec654",
   "metadata": {
    "ExecuteTime": {
     "end_time": "2022-07-28T01:48:16.371689Z",
     "start_time": "2022-07-28T01:48:16.358685Z"
    }
   },
   "outputs": [
    {
     "data": {
      "text/plain": [
       "4"
      ]
     },
     "execution_count": 3,
     "metadata": {},
     "output_type": "execute_result"
    }
   ],
   "source": [
    "2 + 2"
   ]
  },
  {
   "cell_type": "code",
   "execution_count": null,
   "id": "2ad57d67",
   "metadata": {},
   "outputs": [],
   "source": [
    "Ju-> Julia\n",
    "Py-> Python \n",
    "ter-> R"
   ]
  },
  {
   "cell_type": "code",
   "execution_count": null,
   "id": "41231e24",
   "metadata": {},
   "outputs": [],
   "source": [
    "5+5"
   ]
  },
  {
   "cell_type": "code",
   "execution_count": null,
   "id": "f98eb689",
   "metadata": {},
   "outputs": [],
   "source": []
  }
 ],
 "metadata": {
  "kernelspec": {
   "display_name": "Python 3.9.6 64-bit",
   "language": "python",
   "name": "python3"
  },
  "language_info": {
   "codemirror_mode": {
    "name": "ipython",
    "version": 3
   },
   "file_extension": ".py",
   "mimetype": "text/x-python",
   "name": "python",
   "nbconvert_exporter": "python",
   "pygments_lexer": "ipython3",
   "version": "3.9.6"
  },
  "toc": {
   "base_numbering": 1,
   "nav_menu": {},
   "number_sections": true,
   "sideBar": true,
   "skip_h1_title": false,
   "title_cell": "Table of Contents",
   "title_sidebar": "Contents",
   "toc_cell": false,
   "toc_position": {},
   "toc_section_display": true,
   "toc_window_display": false
  },
  "varInspector": {
   "cols": {
    "lenName": 16,
    "lenType": 16,
    "lenVar": 40
   },
   "kernels_config": {
    "python": {
     "delete_cmd_postfix": "",
     "delete_cmd_prefix": "del ",
     "library": "var_list.py",
     "varRefreshCmd": "print(var_dic_list())"
    },
    "r": {
     "delete_cmd_postfix": ") ",
     "delete_cmd_prefix": "rm(",
     "library": "var_list.r",
     "varRefreshCmd": "cat(var_dic_list()) "
    }
   },
   "types_to_exclude": [
    "module",
    "function",
    "builtin_function_or_method",
    "instance",
    "_Feature"
   ],
   "window_display": false
  },
  "vscode": {
   "interpreter": {
    "hash": "1d1e006576485885fb2fda865a3a5c1ff58f4b5b8d8819df6e7d00271f0fe765"
   }
  }
 },
 "nbformat": 4,
 "nbformat_minor": 5
}
